{
 "cells": [
  {
   "cell_type": "code",
   "execution_count": 1,
   "metadata": {},
   "outputs": [
    {
     "name": "stdout",
     "output_type": "stream",
     "text": [
      "module loaded at  2020-06-23 08:06:53.508347\n"
     ]
    }
   ],
   "source": [
    "import numpy as np\n",
    "import matplotlib.pyplot as plt\n",
    "%matplotlib inline\n",
    "import networkx as nx\n",
    "import networkx.algorithms.bipartite as bipartite\n",
    "from multiprocessing import Pool\n",
    "import random\n",
    "import itertools\n",
    "import pandas as pd\n",
    "from collections import Counter\n",
    "from joblib import Parallel, delayed\n",
    "import sys\n",
    "from numba import njit,jit\n",
    "from numba.typed import Dict,List\n",
    "import numba as nb\n",
    "from scipy.special import factorial\n",
    "sys.path.append('lib/')\n",
    "from degree_seq_bipartite import bipartite_degree_seq\n",
    "import time\n"
   ]
  },
  {
   "cell_type": "markdown",
   "metadata": {},
   "source": [
    "#### This test shows that parallel version in numba is slower"
   ]
  },
  {
   "cell_type": "code",
   "execution_count": 24,
   "metadata": {},
   "outputs": [
    {
     "name": "stdout",
     "output_type": "stream",
     "text": [
      "<built-in method poisson of numpy.random.mtrand.RandomState object at 0x7f816e1dcaf0>\n"
     ]
    }
   ],
   "source": [
    "N_a = 50_000# n people\n",
    "N_b = 50_000 #n clusters\n",
    "a_mean = 4. #average degree of the distribution\n",
    "#b_mean = (a_mean )* N_a / N_b \n",
    "#aseq,bseq = bipartite_degree_seq(N_a,N_b,'shifted_poisson','shifted_poisson',{'lam':a_mean},{'lam':N_a*a_mean/N_b})\n",
    "aseq,bseq = bipartite_degree_seq(N_a,N_b,'poisson','poisson',{'lam':a_mean},{'lam':N_a*a_mean/N_b})\n",
    "BG = bipartite.generators.configuration_model(aseq,bseq)\n",
    "BG = nx.Graph(BG)#convert multilinks to simple "
   ]
  },
  {
   "cell_type": "code",
   "execution_count": 25,
   "metadata": {},
   "outputs": [],
   "source": [
    "@njit(parallel=True)\n",
    "def single_instance_numba_parallel(neigh,states,N_a,N_b,p,N_iterations=20):\n",
    "    individuals = set(range(N_a)).intersection(set(neigh.keys()))\n",
    "    clusters = set(range(N_a,N_a+N_b)).intersection(set(neigh.keys()))\n",
    "    #start = time.time()\n",
    "    for count in range(N_iterations):    #solving cavity equations through forward dynamics\n",
    "        err = 0\n",
    "        for j in individuals:#solving 3rd equation\n",
    "                for idx,mu in enumerate(neigh[j]):\n",
    "                    new=1.0\n",
    "                    for nu in set(neigh[j])-{mu}:\n",
    "                        new*=1-states[nu][neigh[nu]==j][0]\n",
    "                    err = max(abs(states[j][idx]-1+new),err)\n",
    "                    states[j][idx]= 1-new\n",
    "        for mu in clusters: #running 2nd equation\n",
    "                for idx,i in enumerate(neigh[mu]):\n",
    "                    new=1.\n",
    "                    for j in set(neigh[mu])-{i}:\n",
    "                        new*=(1-p*states[j][neigh[j]==mu][0])\n",
    "                    err = max(abs(1-new-states[mu][idx]),err)\n",
    "                    states[mu][idx]= 1-new\n",
    "        if err<0.001:\n",
    "            print('Exit after ',count,' iterations')\n",
    "            break\n",
    "    if count==N_iterations-1:\n",
    "        print('Attention! Maximum number of iteration reached')\n",
    "\n",
    "    #end = time.time()\n",
    "    #print('it took',end-start,' seconds')\n",
    "\n",
    "    risk ={}\n",
    "    for i in individuals:#solving 3rd equation\n",
    "        new=1\n",
    "        for mu in set(neigh[i]):\n",
    "            if len(states[mu][neigh[mu]==i])!=1:#sanity check\n",
    "                print('mu=',mu,'i=',i)\n",
    "                raise ValueError('Sanity check failed!')\n",
    "            new*=(1-states[mu][neigh[mu]==i][0])\n",
    "        risk[i]= 1-new\n",
    "    return risk\n",
    "@njit()\n",
    "def single_instance_numba(neigh,states,N_a,N_b,p,N_iterations=20):\n",
    "    individuals = set(range(N_a)).intersection(set(neigh.keys()))\n",
    "    clusters = set(range(N_a,N_a+N_b)).intersection(set(neigh.keys()))\n",
    "    #start = time.time()\n",
    "    for count in range(N_iterations):    #solving cavity equations through forward dynamics\n",
    "        err = 0\n",
    "        for j in individuals:#solving 3rd equation\n",
    "                for idx,mu in enumerate(neigh[j]):\n",
    "                    new=1.0\n",
    "                    for nu in set(neigh[j])-{mu}:\n",
    "                        new*=1-states[nu][neigh[nu]==j][0]\n",
    "                    err = max(abs(states[j][idx]-1+new),err)\n",
    "                    states[j][idx]= 1-new\n",
    "        for mu in clusters: #running 2nd equation\n",
    "                for idx,i in enumerate(neigh[mu]):\n",
    "                    new=1.\n",
    "                    for j in set(neigh[mu])-{i}:\n",
    "                        new*=(1-p*states[j][neigh[j]==mu][0])\n",
    "                    err = max(abs(1-new-states[mu][idx]),err)\n",
    "                    states[mu][idx]= 1-new\n",
    "        if err<0.001:\n",
    "            print('Exit after ',count,' iterations')\n",
    "            break\n",
    "    if count==N_iterations-1:\n",
    "        print('Attention! Maximum number of iteration reached')\n",
    "\n",
    "    #end = time.time()\n",
    "    #print('it took',end-start,' seconds')\n",
    "\n",
    "    risk ={}\n",
    "    for i in individuals:#solving 3rd equation\n",
    "        new=1\n",
    "        for mu in set(neigh[i]):\n",
    "            if len(states[mu][neigh[mu]==i])!=1:#sanity check\n",
    "                print('mu=',mu,'i=',i)\n",
    "                raise ValueError('Sanity check failed!')\n",
    "            new*=(1-states[mu][neigh[mu]==i][0])\n",
    "        risk[i]= 1-new\n",
    "    return risk\n",
    "def Convert_typed(tup):\n",
    "    ''' for undirected edges. I construct the neighbouring relationship.\n",
    "    Returns:\n",
    "        di: dictionary.\n",
    "    Notes:\n",
    "    For link (a,b)  it returns the di[a]+=[b], and di[b]+=[a]\n",
    "    '''\n",
    "    d_typed = Dict.empty(\n",
    "            key_type=nb.types.int64,\n",
    "            value_type=nb.types.int64[:],\n",
    "        )\n",
    "    for a, b in tup:\n",
    "        if a not in d_typed:\n",
    "            d_typed[a]=np.array([b])\n",
    "        else:\n",
    "            d_typed[a]=np.append(d_typed[a],b)\n",
    "        if b not in d_typed:\n",
    "            d_typed[b]=np.array([a])\n",
    "        else:\n",
    "            d_typed[b]=np.append(d_typed[b],a)\n",
    "            \n",
    "    '''     \n",
    "    for key, value in di.items():\n",
    "        d_typed[key] = np.array(value,dtype=int) \n",
    "    '''\n",
    "    return d_typed\n",
    "def dict_to_typed_states(neigh):\n",
    "    ''' for undirected edges. I construct the neighbouring relationship.\n",
    "    Returns:\n",
    "        di: dictionary.\n",
    "    Notes:\n",
    "    For link (a,b)  it returns the di[a]+=[b], and di[b]+=[a]\n",
    "    '''\n",
    "    d_typed = Dict.empty(\n",
    "            key_type=nb.types.int64,\n",
    "            value_type=nb.types.float32[:],\n",
    "        )\n",
    "\n",
    "    for key, value in neigh.items():\n",
    "        d_typed[key] = np.ones(len(value),dtype=np.float32) \n",
    "    return d_typed\n",
    "        \n",
    "def Convert(tup, di=None):\n",
    "    ''' for undirected edges. I construct the neighbouring relationship.\n",
    "    Returns:\n",
    "        di: dictionary.\n",
    "    Notes:\n",
    "    For link (a,b)  it returns the di[a]+=[b], and di[b]+=[a]\n",
    "    '''\n",
    "    if di ==None:\n",
    "        di={}\n",
    "    for a, b in tup: \n",
    "        di.setdefault(a, []).append(b)\n",
    "        di.setdefault(b, []).append(a)\n",
    "    di = {key:np.array(value,dtype=int) for key, value in di.items()}\n",
    "    return di \n",
    "#%time neigh = Convert(BG.edges())\n",
    "#states = {key:np.ones(len(value)) for key,value in neigh.items()}#states[x][y] indicates the state of node \"x cavity neigh[x][y]\"\"\n"
   ]
  },
  {
   "cell_type": "code",
   "execution_count": 26,
   "metadata": {},
   "outputs": [
    {
     "name": "stdout",
     "output_type": "stream",
     "text": [
      "CPU times: user 7.77 s, sys: 148 ms, total: 7.92 s\n",
      "Wall time: 7.92 s\n"
     ]
    }
   ],
   "source": [
    "%time neigh = Convert_typed(list(BG.edges()))\n",
    "states = dict_to_typed_states(neigh)"
   ]
  },
  {
   "cell_type": "code",
   "execution_count": 27,
   "metadata": {},
   "outputs": [
    {
     "name": "stdout",
     "output_type": "stream",
     "text": [
      "Exit after  6  iterations\n",
      "CPU times: user 4min 28s, sys: 37.3 s, total: 5min 5s\n",
      "Wall time: 1min 51s\n",
      "Exit after  6  iterations\n",
      "CPU times: user 15.8 s, sys: 93.2 ms, total: 15.9 s\n",
      "Wall time: 16.6 s\n"
     ]
    }
   ],
   "source": [
    "p = 0.2\n",
    "%time risk_parallel = single_instance_numba_parallel(neigh,states,N_a,N_b,p)\n",
    "states = dict_to_typed_states(neigh)\n",
    "%time risk = single_instance_numba(neigh,states,N_a,N_b,p)\n"
   ]
  },
  {
   "cell_type": "code",
   "execution_count": 28,
   "metadata": {},
   "outputs": [
    {
     "data": {
      "text/plain": [
       "True"
      ]
     },
     "execution_count": 28,
     "metadata": {},
     "output_type": "execute_result"
    }
   ],
   "source": [
    "[x for x in risk_parallel.values()]==[x for x in risk.values()]"
   ]
  },
  {
   "cell_type": "code",
   "execution_count": null,
   "metadata": {},
   "outputs": [],
   "source": []
  }
 ],
 "metadata": {
  "kernelspec": {
   "display_name": "Python 3",
   "language": "python",
   "name": "python3"
  },
  "language_info": {
   "codemirror_mode": {
    "name": "ipython",
    "version": 3
   },
   "file_extension": ".py",
   "mimetype": "text/x-python",
   "name": "python",
   "nbconvert_exporter": "python",
   "pygments_lexer": "ipython3",
   "version": "3.7.4"
  }
 },
 "nbformat": 4,
 "nbformat_minor": 2
}
