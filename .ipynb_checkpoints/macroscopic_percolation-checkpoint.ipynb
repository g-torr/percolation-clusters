{
 "cells": [
  {
   "cell_type": "code",
   "execution_count": 424,
   "metadata": {},
   "outputs": [],
   "source": [
    "import numpy as np\n",
    "import matplotlib.pyplot as plt\n",
    "%matplotlib inline\n",
    "import networkx as nx\n",
    "import networkx.algorithms.bipartite as bipartite\n",
    "import random\n",
    "from scipy.stats import poisson"
   ]
  },
  {
   "cell_type": "markdown",
   "metadata": {},
   "source": [
    "- degree of individual : number of cluster a person belongs to \n",
    "- degree of cluster:  number of people in the cluster"
   ]
  },
  {
   "cell_type": "code",
   "execution_count": 407,
   "metadata": {},
   "outputs": [
    {
     "data": {
      "text/plain": [
       "<matplotlib.legend.Legend at 0xa18c3b190>"
      ]
     },
     "execution_count": 407,
     "metadata": {},
     "output_type": "execute_result"
    },
    {
     "data": {
      "image/png": "[encoded data removed]",
      "text/plain": [
       "<Figure size 432x288 with 1 Axes>"
      ]
     },
     "metadata": {
      "needs_background": "light"
     },
     "output_type": "display_data"
    }
   ],
   "source": [
    "N_a = 100_000# n people\n",
    "N_b = 10_000 #n clusters\n",
    "a_mean = 3\n",
    "b_mean = (a_mean )* N_a / N_b \n",
    "aseq =np.random.poisson(a_mean-1,N_a) +1\n",
    "bseq =np.random.poisson(b_mean -1,N_b) +1\n",
    "\n",
    "plt.hist(aseq,bins = np.arange(min(aseq),max(aseq)+1),density=True,label = 'individual')\n",
    "plt.hist(bseq,bins = np.arange(min(bseq),max(bseq)+1),density=True,label = 'cluster')\n",
    "plt.title('degree distribution')\n",
    "plt.legend()"
   ]
  },
  {
   "cell_type": "code",
   "execution_count": 392,
   "metadata": {},
   "outputs": [
    {
     "data": {
      "text/plain": [
       "0.9996326335941423"
      ]
     },
     "execution_count": 392,
     "metadata": {},
     "output_type": "execute_result"
    }
   ],
   "source": [
    "sum(aseq)/sum(bseq)"
   ]
  },
  {
   "cell_type": "code",
   "execution_count": 464,
   "metadata": {},
   "outputs": [],
   "source": [
    "def bipartite_degree_seq(N_a,N_b,pmf_a,pmf_b,a_params,b_params):\n",
    "    '''\n",
    "    generate the degree sequences according to the degree distribution specified.\n",
    "    Accepted degree distributions are list at np.random.__all__\n",
    "    Parameters:\n",
    "    N_a: int\n",
    "        number of nodes in layer a\n",
    "    N_b: int\n",
    "        number of nodes in layer b        \n",
    "    pmf_a: string\n",
    "        name of the distribution from which degree sequence is sampled, for nodes a\n",
    "    pmf_b: string\n",
    "        name of the distribution from which degree sequence is sampled, for nodes b\n",
    "    a_params: dict\n",
    "        parameters of the distribution pmf_a\n",
    "    b_params: dict\n",
    "        parameters of the distribution pmf_b\n",
    "    Returns:\n",
    "    aseq: np.array\n",
    "        degree sequence layer a\n",
    "    bseq: np.array\n",
    "        degree sequence layer b\n",
    "    Usage:\n",
    "    N_a = 10000\n",
    "    N_b = 1000\n",
    "    a_mean = 1\n",
    "    a,b = bipartite_degree_seq(N_a,N_b,'poisson','poisson',{'lam':a_mean},{'lam':N_a*a_mean/N_b})\n",
    "\n",
    "    '''\n",
    "    print(a_params)\n",
    "    afunc = getattr(np.random,pmf_a)\n",
    "    aseq =afunc(**a_params,size = N_a) \n",
    "    bseq =afunc(**b_params,size = N_b) \n",
    "    diff =np.sum(aseq)- np.sum(bseq) \n",
    "    if abs(diff/np.sum(aseq))>0.01:\n",
    "        raise ValueError('It is likely that statistically the sum of the two degree sequence differs')\n",
    "    while diff != 0:\n",
    "        n_new_samples = len(aseq) #int(abs(diff) /a_mean)\n",
    "        new_samples = np.random.poisson(a_mean -1, n_new_samples)+1\n",
    "        for proposed in new_samples:\n",
    "            i = np.random.choice(len(aseq))\n",
    "            k = aseq[i]\n",
    "            if abs(diff -k+ proposed )<abs(diff):\n",
    "                aseq[i] = proposed\n",
    "                diff = diff -k+ proposed\n",
    "    return aseq,bseq\n"
   ]
  },
  {
   "cell_type": "code",
   "execution_count": 482,
   "metadata": {},
   "outputs": [
    {
     "name": "stdout",
     "output_type": "stream",
     "text": [
      "{'lam': 3}\n"
     ]
    },
    {
     "data": {
      "text/plain": [
       "(2.99645, 29.9645)"
      ]
     },
     "execution_count": 482,
     "metadata": {},
     "output_type": "execute_result"
    }
   ],
   "source": [
    "aseq,bseq = bipartite_degree_seq(N_a,N_b,'poisson','poisson',{'lam':a_mean},{'lam':N_a*a_mean/N_b})\n",
    "'''comment the following line if you do not want the shifted distribution\n",
    "aseq = aseq +1\n",
    "bseq = bseq +int(len(aseq)/N_b)#shifted poisson'''\n",
    "np.mean(aseq),np.mean(bseq)"
   ]
  },
  {
   "cell_type": "code",
   "execution_count": 477,
   "metadata": {},
   "outputs": [],
   "source": [
    "BG = bipartite.generators.configuration_model(aseq,bseq)\n",
    "p = 0.7# prob not to trasmit disease\n",
    "edgs_list = list(BG.edges())\n",
    "edgs_to_rm = random.sample(edgs_list,k = int(len(edgs_list)*p))\n",
    "BG.remove_edges_from(edgs_to_rm)\n",
    "CC= max(nx.algorithms.connected_components(BG),key = len)\n"
   ]
  },
  {
   "cell_type": "code",
   "execution_count": 481,
   "metadata": {},
   "outputs": [
    {
     "name": "stdout",
     "output_type": "stream",
     "text": [
      "fraction of individuals infected 0.59275 \n",
      "fraction of clusters infected 0.996\n"
     ]
    }
   ],
   "source": [
    "CC = np.array(list(CC))\n",
    "print('fraction of individuals infected',np.count_nonzero(CC<N_a)/N_a,'\\nfraction of clusters infected',np.count_nonzero(CC>=N_a)/N_b)\n",
    "\n"
   ]
  },
  {
   "cell_type": "code",
   "execution_count": null,
   "metadata": {},
   "outputs": [],
   "source": []
  }
 ],
 "metadata": {
  "kernelspec": {
   "display_name": "Python 3",
   "language": "python",
   "name": "python3"
  },
  "language_info": {
   "codemirror_mode": {
    "name": "ipython",
    "version": 3
   },
   "file_extension": ".py",
   "mimetype": "text/x-python",
   "name": "python",
   "nbconvert_exporter": "python",
   "pygments_lexer": "ipython3",
   "version": "3.7.4"
  }
 },
 "nbformat": 4,
 "nbformat_minor": 2
}
