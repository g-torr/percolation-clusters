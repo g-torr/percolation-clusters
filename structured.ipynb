{
 "cells": [
  {
   "cell_type": "code",
   "execution_count": 1,
   "metadata": {},
   "outputs": [
    {
     "name": "stdout",
     "output_type": "stream",
     "text": [
      "module loaded at  2020-07-02 13:18:57.227811\n"
     ]
    }
   ],
   "source": [
    "import numpy as np\n",
    "import matplotlib.pyplot as plt\n",
    "%matplotlib inline\n",
    "import networkx as nx\n",
    "import networkx.algorithms.bipartite as bipartite\n",
    "from multiprocessing import Pool\n",
    "import random\n",
    "import itertools\n",
    "import pandas as pd\n",
    "from collections import Counter\n",
    "from joblib import Parallel, delayed\n",
    "import sys\n",
    "from collections import defaultdict\n",
    "from scipy.special import factorial\n",
    "import matplotlib as mpl\n",
    "import single_instance\n",
    "sys.path.append('lib/')\n",
    "from degree_seq_bipartite import bipartite_degree_seq\n",
    "import time\n",
    "import pickle\n",
    "from scipy.stats import pareto\n",
    "def save_obj(obj, name ):\n",
    "    with open('./Data/dic-'+ name + '.pkl', 'wb') as f:\n",
    "        pickle.dump(obj, f, pickle.HIGHEST_PROTOCOL)\n",
    "def load_obj(name):\n",
    "    with open('./Data/dic-'+name+'.pkl', 'rb') as f:\n",
    "        return pickle.load(f)\n",
    "def flatten(seq):\n",
    "  for el in seq:\n",
    "    if isinstance(el, list):\n",
    "      yield from flatten(el)\n",
    "    else:\n",
    "      yield el\n"
   ]
  },
  {
   "cell_type": "markdown",
   "metadata": {},
   "source": [
    "Micorscopic cavity dynamics:\n",
    "\\begin{eqnarray}\n",
    "v_i& \\equiv \\langle n_i\\rangle =  1-\\prod_{\\mu \\in\\partial _i}\\left(1-m_\\mu^{(i)}\\right)\\\\\n",
    "m_\\mu^{(i)}&\\equiv\\langle \\tau_\\mu^{(i)}\\rangle = 1-\\prod_{j\\in\\partial _\\mu\\setminus i}\\left(1-p_{j\\mu}v_j^{(\\mu)}\\right)\\\\\n",
    "v_j^{(\\mu)}& \\equiv\\langle n_j^{(\\mu)}\\rangle = 1-\\prod_{\\nu\\in\\partial _j\\setminus \\mu }\\left(1-m_\\nu^{(j)}\\right)\\\\\n",
    "\\end{eqnarray}\n",
    "In the following I label ``a`` the quantities that refers to individuals, ``b`` for the clusters"
   ]
  },
  {
   "cell_type": "markdown",
   "metadata": {},
   "source": [
    "Generate structured networks"
   ]
  },
  {
   "cell_type": "code",
   "execution_count": 4,
   "metadata": {},
   "outputs": [
    {
     "name": "stdout",
     "output_type": "stream",
     "text": [
      "<built-in method poisson of numpy.random.mtrand.RandomState object at 0x7ff9d02c6af0>\n",
      "<function shifted_poisson at 0x7ff9d3a9cef0>\n",
      "<built-in method poisson of numpy.random.mtrand.RandomState object at 0x7ff9d02c6af0>\n",
      "<built-in method poisson of numpy.random.mtrand.RandomState object at 0x7ff9d02c6af0>\n",
      "<built-in method poisson of numpy.random.mtrand.RandomState object at 0x7ff9d02c6af0>\n"
     ]
    }
   ],
   "source": [
    "def _add_nodes_with_bipartite_label(G, lena, lenb):\n",
    "    G.add_nodes_from(range(0,lena+lenb))\n",
    "    b=dict(zip(range(0,lena),[0]*lena))\n",
    "    b.update(dict(zip(range(lena,lena+lenb),[1]*lenb)))\n",
    "    if nx.__version__>'2':\n",
    "         nx.set_node_attributes(G,b,'bipartite')\n",
    "    else:\n",
    "         nx.set_node_attributes(G,'bipartite',b)\n",
    "    return G\n",
    "\n",
    "N_a = 50_000# n people\n",
    "N_b = 50_000 #n clusters\n",
    "f_n = [0.25,0.25,0.5] # fraction of people in group n\n",
    "g_a = [0.4,0.5,0.1] # fraction of clusters in group a\n",
    "def generate_structured_network(N_a,N_b,f_n,g_a):\n",
    "    G = nx.empty_graph(0, default=nx.Graph)\n",
    "    G = _add_nodes_with_bipartite_label(G, N_a, N_b)\n",
    "    a_mean = 3. #average degree of the distribution\n",
    "    #b_mean = (a_mean )* N_a / N_b \n",
    "    #aseq,bseq = bipartite_degree_seq(N_a*f_n[0],N_b*g_a[0],'shifted_poisson','shifted_poisson',{'lam':a_mean},{'lam':N_a*a_mean/N_b})\n",
    "    G = nx.empty_graph(0, default=nx.Graph)\n",
    "    G = _add_nodes_with_bipartite_label(G, N_a, N_b)\n",
    "    a_stubs = range(int(N_a*f_n[0]))\n",
    "    b_stubs = random.choices(np.arange(N_a,int(N_a+N_b*g_a[0])),k = int(N_a*f_n[0]))\n",
    "    G.add_edges_from(zip(a_stubs,b_stubs))#n=0->a=0 \n",
    "\n",
    "    aseq,bseq = bipartite_degree_seq(int(N_a*f_n[1]),int(N_b*g_a[0]),'poisson','poisson',{'lam':1},{'lam':5/8}) \n",
    "    a_stubs = itertools.chain.from_iterable([[i+int(N_a*f_n[0])]*k for i,k in enumerate(aseq) if k >0])\n",
    "    b_stubs = list(itertools.chain.from_iterable([[mu+ N_a]*k for mu,k in enumerate(bseq) if k >0]))\n",
    "    random.shuffle(b_stubs)\n",
    "    G.add_edges_from(zip(a_stubs,b_stubs))#n=1->a=0\n",
    "\n",
    "    aseq,bseq = bipartite_degree_seq(int(N_a*f_n[2]),int(N_b*g_a[0]),'shifted_poisson','poisson',{'lam':2},{'lam':5/2})#n=2->a=0 \n",
    "    a_stubs = itertools.chain.from_iterable([[i+int(N_a*(f_n[1]+f_n[0]))]*k for i,k in enumerate(aseq) if k >0])\n",
    "    b_stubs = list(itertools.chain.from_iterable([[mu+ N_a]*k for mu,k in enumerate(bseq) if k >0]))\n",
    "    random.shuffle(b_stubs)\n",
    "    _ = G.add_edges_from(zip(a_stubs,b_stubs))\n",
    "\n",
    "    aseq,bseq = bipartite_degree_seq(int(N_a*f_n[1]),int(N_b*g_a[1]),'poisson','poisson',{'lam':1},{'lam':1/2})#n=1->a=1 \n",
    "    a_stubs = itertools.chain.from_iterable([[i+int(N_a*f_n[0])]*k for i,k in enumerate(aseq) if k >0])\n",
    "    b_stubs = list(itertools.chain.from_iterable([[mu+ N_a+int(N_b*g_a[0])]*k for mu,k in enumerate(bseq) if k >0]))\n",
    "    random.shuffle(b_stubs)\n",
    "    G.add_edges_from(zip(a_stubs,b_stubs))\n",
    "\n",
    "    aseq,bseq = bipartite_degree_seq(int(N_a*f_n[2]),int(N_b*g_a[1]),'poisson','poisson',{'lam':1},{'lam':1})#n=2->a=1 \n",
    "    a_stubs = itertools.chain.from_iterable([[i+int(N_a*(f_n[1]+f_n[0]))]*k for i,k in enumerate(aseq) if k >0])\n",
    "    b_stubs = list(itertools.chain.from_iterable([[mu+ N_a+ int(N_b*g_a[0])]*k for mu,k in enumerate(bseq) if k >0]))\n",
    "    random.shuffle(b_stubs)\n",
    "    G.add_edges_from(zip(a_stubs,b_stubs))\n",
    "\n",
    "    aseq,bseq = bipartite_degree_seq(int(N_a*f_n[2]),int(N_b*g_a[2]),'poisson','poisson',{'lam':1},{'lam':5})#n=2->a=2 \n",
    "    a_stubs = itertools.chain.from_iterable([[i+int(N_a*(f_n[1]+f_n[0]))]*k for i,k in enumerate(aseq) if k >0])\n",
    "    b_stubs = list(itertools.chain.from_iterable([[mu+ N_a+ int(N_b*(g_a[1]+g_a[0]))]*k for mu,k in enumerate(bseq) if k >0]))\n",
    "    random.shuffle(b_stubs)\n",
    "    _ = G.add_edges_from(zip(a_stubs,b_stubs))\n",
    "    return G\n",
    "G = generate_structured_network(N_a,N_b,f_n,g_a)"
   ]
  },
  {
   "cell_type": "code",
   "execution_count": 3,
   "metadata": {},
   "outputs": [
    {
     "data": {
      "image/png": "[encoded data removed]",
      "text/plain": [
       "<Figure size 432x288 with 1 Axes>"
      ]
     },
     "metadata": {
      "needs_background": "light"
     },
     "output_type": "display_data"
    },
    {
     "data": {
      "image/png": "[encoded data removed]",
      "text/plain": [
       "<Figure size 432x288 with 1 Axes>"
      ]
     },
     "metadata": {
      "needs_background": "light"
     },
     "output_type": "display_data"
    },
    {
     "data": {
      "image/png": "[encoded data removed]",
      "text/plain": [
       "<Figure size 432x288 with 1 Axes>"
      ]
     },
     "metadata": {
      "needs_background": "light"
     },
     "output_type": "display_data"
    },
    {
     "data": {
      "image/png": "[encoded data removed]",
      "text/plain": [
       "<Figure size 432x288 with 1 Axes>"
      ]
     },
     "metadata": {
      "needs_background": "light"
     },
     "output_type": "display_data"
    },
    {
     "data": {
      "image/png": "[encoded data removed]",
      "text/plain": [
       "<Figure size 432x288 with 1 Axes>"
      ]
     },
     "metadata": {
      "needs_background": "light"
     },
     "output_type": "display_data"
    }
   ],
   "source": [
    "def plot_degree_structured(G):\n",
    "    plt.hist(list(dict(G.degree(range(N_a,int(N_a+N_b*(g_a[0]))))).values()),bins = np.arange(0,5,0.5))\n",
    "    k = np.arange(0,5,1)\n",
    "    plt.plot(k,np.exp(-15/4)*(15/4)**k/factorial(k)*N_b*(g_a[0]),'o')#5/4*2+5/2\n",
    "    plt.title('$\\\\alpha=1$')\n",
    "    plt.figure()\n",
    "    plt.hist(list(dict(G.degree(range(int(N_a+N_b*(g_a[0])),int(N_a+N_b*(g_a[1]+g_a[0]))))).values()),bins = np.arange(0,7,0.5))\n",
    "    k = np.arange(0,7,1)\n",
    "    plt.plot(k,np.exp(-3/2)*(3/2)**k/factorial(k)*N_b*(g_a[1]),'o')#1/2+1\n",
    "    plt.title('$\\\\alpha=2$')\n",
    "    plt.figure()\n",
    "    plt.hist(list(dict(G.degree(range(int(N_a+N_b*(g_a[0]+g_a[1])),int(N_a+N_b*(g_a[1]+g_a[0]+g_a[2]))))).values()),bins = np.arange(0,10,0.5))\n",
    "    k = np.arange(0,10,1)\n",
    "    plt.plot(k,np.exp(-5)*(5)**k/factorial(k)*N_b*(g_a[2]),'o')#5/4*2+5/2\n",
    "    plt.title('$\\\\alpha=3$')\n",
    "    plt.figure()\n",
    "    plt.hist(list(dict(G.degree(range(N_a))).values()),bins = np.arange(0,10,0.5))\n",
    "    k = np.arange(0,7,1)\n",
    "    plt.title('degree distribution of individuals')\n",
    "    x = np.pad([0,N_a*(f_n[0])],(0,len(k)-2))+np.exp(-2)*(2)**k/factorial(k)*N_a*(f_n[1])+np.pad((np.exp(-3)*(3)**(k[:-1])/factorial(k[:-1]))*N_a*(f_n[2]),(1,0))\n",
    "    plt.plot(k,x,'o')\n",
    "\n",
    "    plt.figure()\n",
    "    plt.hist(list(dict(G.degree(range(N_a,N_a+N_b))).values()),bins = np.arange(0,7,0.5))\n",
    "    k = np.arange(0,7,1)\n",
    "    plt.plot(k,np.exp(-3/2)*(3/2)**k/factorial(k)*N_b*(g_a[1])+np.exp(-5)*(5)**k/factorial(k)*N_b*(g_a[2])+np.exp(-15/4)*(15/4)**k/factorial(k)*N_b*(g_a[0]),'o')#1/2+1\n",
    "    plt.title('degree distribution of clusters')\n",
    "plot_degree_structured(G)"
   ]
  },
  {
   "cell_type": "code",
   "execution_count": 5,
   "metadata": {},
   "outputs": [
    {
     "name": "stdout",
     "output_type": "stream",
     "text": [
      "CPU times: user 59.9 s, sys: 1.07 s, total: 1min\n",
      "Wall time: 1min 1s\n"
     ]
    }
   ],
   "source": [
    "%%time\n",
    "neigh = single_instance.Convert_typed(list(G.edges()))\n",
    "states = single_instance.dict_to_typed_states(neigh)"
   ]
  },
  {
   "cell_type": "code",
   "execution_count": 6,
   "metadata": {},
   "outputs": [
    {
     "name": "stdout",
     "output_type": "stream",
     "text": [
      "Exit after  7  iterations\n",
      "CPU times: user 12.2 s, sys: 67.8 ms, total: 12.3 s\n",
      "Wall time: 12.3 s\n"
     ]
    }
   ],
   "source": [
    "p = 0.3\n",
    "%time risk = single_instance.single_instance_numba(neigh,states,N_a,N_b,p,N_iterations=100)"
   ]
  },
  {
   "cell_type": "code",
   "execution_count": null,
   "metadata": {},
   "outputs": [],
   "source": []
  },
  {
   "cell_type": "markdown",
   "metadata": {},
   "source": [
    "### Save single instance"
   ]
  },
  {
   "cell_type": "code",
   "execution_count": 26,
   "metadata": {},
   "outputs": [],
   "source": [
    "risk = {key:value for key,value in risk.items()}\n",
    "#neigh = {key:value for key,value in neigh.items()}\n",
    "dic = {'p':p,'risk':risk,'N_a':N_a,'N_b':N_b}\n",
    "#save_obj(dic,'structured_'+str(p))"
   ]
  },
  {
   "cell_type": "markdown",
   "metadata": {},
   "source": [
    "### Load single instance"
   ]
  },
  {
   "cell_type": "code",
   "execution_count": 19,
   "metadata": {},
   "outputs": [],
   "source": [
    "dic = load_obj('structured_0.3')\n",
    "risk = dic['risk']\n",
    "p = dic['p']"
   ]
  },
  {
   "cell_type": "code",
   "execution_count": 25,
   "metadata": {},
   "outputs": [
    {
     "name": "stderr",
     "output_type": "stream",
     "text": [
      "/opt/miniconda3/lib/python3.7/site-packages/ipykernel_launcher.py:5: ParserWarning: Falling back to the 'python' engine because the 'c' engine does not support regex separators (separators > 1 char and different from '\\s+' are interpreted as regex); you can avoid this warning by specifying engine='python'.\n",
      "  \"\"\"\n"
     ]
    },
    {
     "data": {
      "image/png": "[encoded data removed]",
      "text/plain": [
       "<Figure size 432x288 with 1 Axes>"
      ]
     },
     "metadata": {
      "needs_background": "light"
     },
     "output_type": "display_data"
    }
   ],
   "source": [
    "plt.hist(risk.values(),150,density=True)\n",
    "plt.xlabel('prob of being infected')\n",
    "plt.ylabel('pdf of population')\n",
    "plt.title('structured network,p='+str(p))\n",
    "df = pd.read_csv('./Data/SIRBStrPopDyn-P-tb03',sep = '   ',skiprows=1,usecols=[1,5],names =['v','prob'])\n",
    "plt.plot(df.v,df.prob,label ='pop dynamics')\n",
    "plt.legend()\n",
    "plt.tight_layout()\n",
    "#plt.savefig('structured_p=0.3.eps')\n"
   ]
  },
  {
   "cell_type": "markdown",
   "metadata": {},
   "source": [
    "## Comparison  structured vs unstructured networks"
   ]
  },
  {
   "cell_type": "code",
   "execution_count": 7,
   "metadata": {},
   "outputs": [
    {
     "name": "stdout",
     "output_type": "stream",
     "text": [
      "<built-in method poisson of numpy.random.mtrand.RandomState object at 0x7fe00c1c9af0>\n",
      "<function shifted_poisson at 0x7fe00f99ff80>\n",
      "<built-in method poisson of numpy.random.mtrand.RandomState object at 0x7fe00c1c9af0>\n",
      "<built-in method poisson of numpy.random.mtrand.RandomState object at 0x7fe00c1c9af0>\n",
      "<built-in method poisson of numpy.random.mtrand.RandomState object at 0x7fe00c1c9af0>\n"
     ]
    }
   ],
   "source": [
    "N_samples = 200_000\n",
    "A = generate_structured_network(N_samples,N_samples,f_n,g_a)\n",
    "aseq= random.choices(list(zip(*list(A.degree(range(N_samples)))))[1],k = N_a)\n",
    "bseq= random.choices(list(zip(*list(A.degree(range(N_samples,N_samples+N_samples)))))[1],k = N_b)\n",
    "diff = sum(aseq)-sum(bseq)\n",
    "count = 0\n",
    "error = []\n",
    "while diff!=0:\n",
    "    n_new_samples = len(aseq) #int(abs(diff) /a_mean)\n",
    "    new_samples = random.choices(list(zip(*list(G.degree(range(N_samples)))))[1],k = N_a)\n",
    "    for proposed in new_samples:\n",
    "        i = np.random.choice(len(aseq))\n",
    "        k = aseq[i]\n",
    "        count +=1\n",
    "        error+=[(diff,count)]\n",
    "        if abs(diff -k+ proposed )<abs(diff):\n",
    "            aseq[i] = proposed\n",
    "            diff = diff -k+ proposed\n",
    "            if diff ==0:\n",
    "                break\n",
    "random.shuffle(bseq)\n",
    "BG = bipartite.generators.configuration_model(aseq,bseq)\n",
    "BG = nx.Graph(BG)#convert multilinks to simple \n",
    "\n"
   ]
  },
  {
   "cell_type": "code",
   "execution_count": 20,
   "metadata": {},
   "outputs": [],
   "source": []
  },
  {
   "cell_type": "markdown",
   "metadata": {},
   "source": [
    "performance of the degree sequence matching"
   ]
  },
  {
   "cell_type": "code",
   "execution_count": 21,
   "metadata": {},
   "outputs": [
    {
     "data": {
      "text/plain": [
       "Text(0.5, 0, 'iteration number')"
      ]
     },
     "execution_count": 21,
     "metadata": {},
     "output_type": "execute_result"
    },
    {
     "data": {
      "image/png": "[encoded data removed]",
      "text/plain": [
       "<Figure size 432x288 with 1 Axes>"
      ]
     },
     "metadata": {
      "needs_background": "light"
     },
     "output_type": "display_data"
    }
   ],
   "source": [
    "plt.plot(*list(zip(*error))[::-1])\n",
    "plt.title('performance of the degree sequence matching')\n",
    "plt.ylabel('error')\n",
    "plt.xlabel('iteration number')"
   ]
  },
  {
   "cell_type": "code",
   "execution_count": 21,
   "metadata": {},
   "outputs": [
    {
     "data": {
      "image/png": "[encoded data removed]",
      "text/plain": [
       "<Figure size 432x288 with 1 Axes>"
      ]
     },
     "metadata": {
      "needs_background": "light"
     },
     "output_type": "display_data"
    }
   ],
   "source": [
    "_ = plt.hist(dict(BG.degree(range(N_a,N_a+N_b))).values(),30)"
   ]
  },
  {
   "cell_type": "code",
   "execution_count": 8,
   "metadata": {},
   "outputs": [
    {
     "name": "stdout",
     "output_type": "stream",
     "text": [
      "CPU times: user 4min 26s, sys: 3.9 s, total: 4min 30s\n",
      "Wall time: 4min 34s\n"
     ]
    }
   ],
   "source": [
    "%%time\n",
    "neigh_unstr = single_instance.Convert_typed(list(BG.edges()))\n",
    "states_unstr = single_instance.dict_to_typed_states(neigh_unstr)"
   ]
  },
  {
   "cell_type": "code",
   "execution_count": 9,
   "metadata": {},
   "outputs": [
    {
     "name": "stdout",
     "output_type": "stream",
     "text": [
      "Exit after  61  iterations\n",
      "CPU times: user 2min 28s, sys: 1.65 s, total: 2min 29s\n",
      "Wall time: 2min 33s\n"
     ]
    }
   ],
   "source": [
    "p = 0.1\n",
    "%time risk_unstr = single_instance.single_instance_numba(neigh_unstr,states_unstr,N_a,N_b,p,N_iterations=100)"
   ]
  },
  {
   "cell_type": "code",
   "execution_count": 16,
   "metadata": {},
   "outputs": [],
   "source": [
    "risk_unstr = {key:value for key,value in risk_unstr.items()}\n",
    "#neigh = {key:value for key,value in neigh.items()}\n",
    "dic = {'p':p,'risk':risk_unstr,'N_a':N_a,'N_b':N_b}\n",
    "#save_obj(dic,'unstructured_'+str(p))"
   ]
  },
  {
   "cell_type": "code",
   "execution_count": 18,
   "metadata": {},
   "outputs": [
    {
     "name": "stderr",
     "output_type": "stream",
     "text": [
      "/opt/miniconda3/lib/python3.7/site-packages/ipykernel_launcher.py:6: ParserWarning: Falling back to the 'python' engine because the 'c' engine does not support regex separators (separators > 1 char and different from '\\s+' are interpreted as regex); you can avoid this warning by specifying engine='python'.\n",
      "  \n"
     ]
    },
    {
     "data": {
      "text/plain": [
       "(0, 15)"
      ]
     },
     "execution_count": 18,
     "metadata": {},
     "output_type": "execute_result"
    },
    {
     "data": {
      "image/png": "[encoded data removed]",
      "text/plain": [
       "<Figure size 432x288 with 1 Axes>"
      ]
     },
     "metadata": {
      "needs_background": "light"
     },
     "output_type": "display_data"
    }
   ],
   "source": [
    "plt.hist(risk_unstr.values(),200,density=True,label ='unstructured')\n",
    "plt.hist(risk.values(),200,density=True,label = 'structured',alpha = 0.6)\n",
    "plt.xlabel('prob of being infected')\n",
    "plt.ylabel('pdf of population')\n",
    "plt.title('structured network,p='+str(p))\n",
    "df = pd.read_csv('./Data/SIRBStrPopDyn-P-tb01',sep = '   ',skiprows=1,usecols=[1,5],names =['v','prob'])\n",
    "plt.plot(df.v,df.prob,label ='pop dynamics')\n",
    "plt.legend()\n",
    "plt.tight_layout()\n",
    "plt.xlim(0,0.4)\n",
    "plt.ylim(0,15)\n",
    "#plt.savefig('./Figures/comparison_p=0.1.pdf')\n"
   ]
  },
  {
   "cell_type": "code",
   "execution_count": 21,
   "metadata": {},
   "outputs": [
    {
     "data": {
      "text/plain": [
       "dict_keys(['p', 'risk', 'N_a', 'N_b'])"
      ]
     },
     "execution_count": 21,
     "metadata": {},
     "output_type": "execute_result"
    }
   ],
   "source": [
    "dic.keys()"
   ]
  },
  {
   "cell_type": "code",
   "execution_count": 57,
   "metadata": {},
   "outputs": [
    {
     "data": {
      "text/plain": [
       "dict_keys([1, 5, 3, 2, 4, 7, 6, 8, 9, 10, 12, 11, 13])"
      ]
     },
     "execution_count": 57,
     "metadata": {},
     "output_type": "execute_result"
    }
   ],
   "source": [
    "d = defaultdict(list)#this dictionary has key = sum_couplings, value  = list of P. \n",
    "for key, degree in dict(G.degree(range(N_a))).items():\n",
    "    if degree >0:\n",
    "        d[degree].append(risk[key])\n"
   ]
  },
  {
   "cell_type": "code",
   "execution_count": 106,
   "metadata": {},
   "outputs": [
    {
     "data": {
      "text/plain": [
       "(0, 5000)"
      ]
     },
     "execution_count": 106,
     "metadata": {},
     "output_type": "execute_result"
    },
    {
     "data": {
      "image/png": "[encoded data removed]",
      "text/plain": [
       "<Figure size 432x288 with 1 Axes>"
      ]
     },
     "metadata": {
      "needs_background": "light"
     },
     "output_type": "display_data"
    }
   ],
   "source": [
    "h_s = 0\n",
    "#c_norm =mpl.colors.Normalize(vmin=min(d.keys()),vmax=max(d.keys()))\n",
    "c_norm =mpl.colors.Normalize(vmin=min(d.keys()),vmax=7)\n",
    "M = max(flatten(d.values()))\n",
    "\n",
    "for k in sorted(d.keys(),key = np.abs):\n",
    "    h,b,_=plt.hist(d[k],bottom = h_s,label = k,bins = np.linspace(0,M,70),color=plt.cm.jet(c_norm(k)))\n",
    "    h_s+=h\n",
    "plt.legend(ncol = 5)\n",
    "plt.title('t = 0.3')\n",
    "plt.xlabel('prob. of being infected')\n",
    "plt.ylabel('pdf')\n",
    "plt.ylim(0,5000)\n",
    "#plt.savefig('degree_dependence2.pdf')\n"
   ]
  },
  {
   "cell_type": "code",
   "execution_count": 105,
   "metadata": {},
   "outputs": [
    {
     "data": {
      "text/plain": [
       "0.09"
      ]
     },
     "execution_count": 105,
     "metadata": {},
     "output_type": "execute_result"
    }
   ],
   "source": []
  },
  {
   "cell_type": "code",
   "execution_count": 70,
   "metadata": {},
   "outputs": [
    {
     "ename": "NameError",
     "evalue": "name 'flatten' is not defined",
     "output_type": "error",
     "traceback": [
      "\u001b[0;31m---------------------------------------------------------------------------\u001b[0m",
      "\u001b[0;31mNameError\u001b[0m                                 Traceback (most recent call last)",
      "\u001b[0;32m<ipython-input-70-090bb79d8ee1>\u001b[0m in \u001b[0;36m<module>\u001b[0;34m()\u001b[0m\n\u001b[0;32m----> 1\u001b[0;31m \u001b[0mflatten\u001b[0m\u001b[0;34m\u001b[0m\u001b[0;34m\u001b[0m\u001b[0m\n\u001b[0m",
      "\u001b[0;31mNameError\u001b[0m: name 'flatten' is not defined"
     ]
    }
   ],
   "source": [
    "flatten"
   ]
  },
  {
   "cell_type": "code",
   "execution_count": null,
   "metadata": {},
   "outputs": [],
   "source": []
  }
 ],
 "metadata": {
  "kernelspec": {
   "display_name": "Python 3",
   "language": "python",
   "name": "python3"
  },
  "language_info": {
   "codemirror_mode": {
    "name": "ipython",
    "version": 3
   },
   "file_extension": ".py",
   "mimetype": "text/x-python",
   "name": "python",
   "nbconvert_exporter": "python",
   "pygments_lexer": "ipython3",
   "version": "3.7.4"
  }
 },
 "nbformat": 4,
 "nbformat_minor": 2
}
