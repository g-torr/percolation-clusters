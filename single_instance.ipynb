{
 "cells": [
  {
   "cell_type": "code",
   "execution_count": 1,
   "metadata": {},
   "outputs": [
    {
     "name": "stdout",
     "output_type": "stream",
     "text": [
      "module loaded at  2021-12-07 11:38:16.580463\n"
     ]
    }
   ],
   "source": [
    "import numpy as np\n",
    "import matplotlib.pyplot as plt\n",
    "%matplotlib inline\n",
    "import networkx as nx\n",
    "import networkx.algorithms.bipartite as bipartite\n",
    "from multiprocessing import Pool\n",
    "import random\n",
    "import itertools\n",
    "import pandas as pd\n",
    "from collections import Counter\n",
    "from joblib import Parallel, delayed\n",
    "import sys\n",
    "from numba import njit,jit\n",
    "from numba.typed import Dict,List\n",
    "import numba as nb\n",
    "from scipy.special import factorial\n",
    "sys.path.append('lib/')\n",
    "from degree_seq_bipartite import bipartite_degree_seq\n",
    "import time\n",
    "import pickle\n",
    "from scipy.stats import pareto\n",
    "def save_obj(obj, name ):\n",
    "    with open('dic-'+ name + '.pkl', 'wb') as f:\n",
    "        pickle.dump(obj, f, pickle.HIGHEST_PROTOCOL)\n",
    "\n"
   ]
  },
  {
   "cell_type": "code",
   "execution_count": null,
   "metadata": {},
   "outputs": [],
   "source": []
  },
  {
   "cell_type": "markdown",
   "metadata": {},
   "source": [
    "Micorscopic cavity dynamics:\n",
    "\\begin{eqnarray}\n",
    "v_i& \\equiv \\langle n_i\\rangle =  1-\\prod_{\\mu \\in\\partial _i}\\left(1-m_\\mu^{(i)}\\right)\\\\\n",
    "m_\\mu^{(i)}&\\equiv\\langle \\tau_\\mu^{(i)}\\rangle = 1-\\prod_{j\\in\\partial _\\mu\\setminus i}\\left(1-T_{j\\mu}v_j^{(\\mu)}\\right)\\\\\n",
    "m_\\mu^{(i)}&\\equiv\\langle \\tau_\\mu^{(i)}\\rangle = 1-\\prod_{j\\in\\partial _\\mu\\setminus i}\\left(1-\\frac{\\tilde{T}_{j\\mu}}{c_{\\mu}}v_j^{(\\mu)}\\right)\\\\\n",
    "v_j^{(\\mu)}& \\equiv\\langle n_j^{(\\mu)}\\rangle = 1-\\prod_{\\nu\\in\\partial _j\\setminus \\mu }\\left(1-m_\\nu^{(j)}\\right)\\\\\n",
    "\\end{eqnarray}\n",
    "In the following I label ``a`` the quantities that refers to individuals, ``b`` for the clusters"
   ]
  },
  {
   "cell_type": "code",
   "execution_count": 35,
   "metadata": {},
   "outputs": [
    {
     "name": "stdout",
     "output_type": "stream",
     "text": [
      "<built-in method poisson of numpy.random.mtrand.RandomState object at 0x7fe1882ceaf0>\n"
     ]
    },
    {
     "data": {
      "text/plain": [
       "(0, 0)"
      ]
     },
     "execution_count": 35,
     "metadata": {},
     "output_type": "execute_result"
    }
   ],
   "source": [
    "N_a = 1_000# n people\n",
    "N_b = 1_000 #n clusters\n",
    "a_mean = 4. #average degree of the distribution\n",
    "#b_mean = (a_mean )* N_a / N_b \n",
    "#aseq,bseq = bipartite_degree_seq(N_a,N_b,'shifted_poisson','shifted_poisson',{'lam':a_mean},{'lam':N_a*a_mean/N_b})\n",
    "aseq,bseq = bipartite_degree_seq(N_a,N_b,'poisson','poisson',{'lam':a_mean},{'lam':N_a*a_mean/N_b})\n",
    "BG = bipartite.generators.configuration_model(aseq,bseq)\n",
    "BG = nx.Graph(BG)#convert multilinks to simple \n",
    "#G = nx.algorithms.bipartite.projection.projected_graph(BG,range(N_a,N_b))#projection on the cluster layer\n",
    "p = 0.1 #probability to transmit a disease\n",
    "min(bseq),min(aseq)"
   ]
  },
  {
   "cell_type": "code",
   "execution_count": 33,
   "metadata": {},
   "outputs": [
    {
     "data": {
      "text/plain": [
       "(array([ 219., 1122.,  911., 1583.,  535.,  481.,  122.,   16.,    9.,\n",
       "           2.]),\n",
       " array([ 1. ,  2.6,  4.2,  5.8,  7.4,  9. , 10.6, 12.2, 13.8, 15.4, 17. ]),\n",
       " <a list of 10 Patch objects>)"
      ]
     },
     "execution_count": 33,
     "metadata": {},
     "output_type": "execute_result"
    },
    {
     "data": {
      "image/png": "[encoded data removed]",
      "text/plain": [
       "<Figure size 432x288 with 1 Axes>"
      ]
     },
     "metadata": {
      "needs_background": "light"
     },
     "output_type": "display_data"
    }
   ],
   "source": [
    "plt.hist(bseq)"
   ]
  },
  {
   "cell_type": "code",
   "execution_count": 36,
   "metadata": {},
   "outputs": [
    {
     "name": "stdout",
     "output_type": "stream",
     "text": [
      "CPU times: user 195 ms, sys: 16.8 ms, total: 212 ms\n",
      "Wall time: 203 ms\n"
     ]
    }
   ],
   "source": [
    "def Convert_typed(tup):\n",
    "    ''' for undirected edges. I construct the neighbouring relationship.\n",
    "    Returns:\n",
    "        di: dictionary.\n",
    "    Notes:\n",
    "    For link (a,b)  it returns the di[a]+=[b], and di[b]+=[a]\n",
    "    '''\n",
    "    d_typed = Dict.empty(\n",
    "            key_type=nb.types.int64,\n",
    "            value_type=nb.types.int64[:],\n",
    "        )\n",
    "    for a, b in tup:\n",
    "        if a not in d_typed:\n",
    "            d_typed[a]=np.array([b])\n",
    "        else:\n",
    "            d_typed[a]=np.append(d_typed[a],b)\n",
    "        if b not in d_typed:\n",
    "            d_typed[b]=np.array([a])\n",
    "        else:\n",
    "            d_typed[b]=np.append(d_typed[b],a)\n",
    "            \n",
    "    '''     \n",
    "    for key, value in di.items():\n",
    "        d_typed[key] = np.array(value,dtype=int) \n",
    "    '''\n",
    "    return d_typed\n",
    "def dict_to_typed_states(neigh):\n",
    "    ''' for undirected edges. I construct the neighbouring relationship.\n",
    "    Returns:\n",
    "        di: dictionary.\n",
    "    Notes:\n",
    "    For link (a,b)  it returns the di[a]+=[b], and di[b]+=[a]\n",
    "    '''\n",
    "    d_typed = Dict.empty(\n",
    "            key_type=nb.types.int64,\n",
    "            value_type=nb.types.float32[:],\n",
    "        )\n",
    "\n",
    "    for key, value in neigh.items():\n",
    "        d_typed[key] = np.ones(len(value),dtype=np.float32) \n",
    "    return d_typed\n",
    "        \n",
    "def Convert(tup, di=None):\n",
    "    ''' for undirected edges. I construct the neighbouring relationship.\n",
    "    Returns:\n",
    "        di: dictionary.\n",
    "    Notes:\n",
    "    For link (a,b)  it returns the di[a]+=[b], and di[b]+=[a]\n",
    "    '''\n",
    "    if di ==None:\n",
    "        di={}\n",
    "    for a, b in tup: \n",
    "        di.setdefault(a, []).append(b)\n",
    "        di.setdefault(b, []).append(a)\n",
    "    di = {key:np.array(value,dtype=int) for key, value in di.items()}\n",
    "    return di \n",
    "#%time neigh = Convert(BG.edges())\n",
    "#states = {key:np.ones(len(value)) for key,value in neigh.items()}#states[x][y] indicates the state of node \"x cavity neigh[x][y]\"\"\n",
    "%time neigh = Convert_typed(list(BG.edges()))\n",
    "states = dict_to_typed_states(neigh)"
   ]
  },
  {
   "cell_type": "markdown",
   "metadata": {},
   "source": [
    "Below the single instance cavity is computed. I use two dictionaries:\n",
    "- states\n",
    "- neigh\n",
    "\n",
    "states[x][y] indicates the state of node \"x cavity neigh[x][y]\"\".\n",
    "\n",
    "\n",
    "Note : 'single_instance_numba' >  single_instance > single_instance2, where \">\" means faster than"
   ]
  },
  {
   "cell_type": "code",
   "execution_count": 37,
   "metadata": {},
   "outputs": [],
   "source": [
    "N_iterations = 50\n",
    "#states = {key:np.ones(len(value)) for key,value in neigh.items()}#states[x][y] indicates the state of node \"x cavity neigh[x][y]\"\"\n",
    "@njit\n",
    "def single_instance_numba(neigh,states,p):\n",
    "    individuals = set(range(N_a)).intersection(set(neigh.keys())) \n",
    "    clusters = set(range(N_a,N_a+N_b)).intersection(set(neigh.keys()))\n",
    "    #start = time.time()\n",
    "    for count in range(N_iterations):    #solving cavity equations through forward dynamics\n",
    "        err = 0\n",
    "        for j in individuals:#solving 3rd equation\n",
    "                for idx,mu in enumerate(neigh[j]):\n",
    "                    new=1.0\n",
    "                    for nu in set(neigh[j])-{mu}:\n",
    "                        new*=1-states[nu][neigh[nu]==j][0]\n",
    "                    err = max(abs(states[j][idx]-1+new),err)\n",
    "                    states[j][idx]= 1-new\n",
    "        for mu in clusters: #running 2nd equation\n",
    "                for idx,i in enumerate(neigh[mu]):\n",
    "                    new=1.\n",
    "                    for j in set(neigh[mu])-{i}:\n",
    "                        new*=(1-p*states[j][neigh[j]==mu][0])\n",
    "                    err = max(abs(1-new-states[mu][idx]),err)\n",
    "                    states[mu][idx]= 1-new\n",
    "        if err<0.001:\n",
    "            print('Exit after ',count,' iterations')\n",
    "            break\n",
    "    if count==N_iterations-1:\n",
    "        print('Attention! Maximum number of iteration reached')\n",
    "    #end = time.time()\n",
    "    #print('it took',end-start,' seconds')\n",
    "\n",
    "    risk ={}\n",
    "    for i in individuals:#solving 3rd equation\n",
    "        new=1\n",
    "        for mu in set(neigh[i]):\n",
    "            if len(states[nu][neigh[mu]==i])!=1:#sanity check\n",
    "                raise ValueError\n",
    "            new*=(1-states[mu][neigh[mu]==i][0])\n",
    "        risk[i]= 1-new\n",
    "    return risk\n",
    "\n",
    "def single_instance(neigh,states,p):\n",
    "    individuals = set(range(N_a)).intersection(set(neigh.keys())) \n",
    "    clusters = set(range(N_a,N_a+N_b)).intersection(set(neigh.keys()))\n",
    "    #start = time.time()\n",
    "    for count in range(N_iterations):    #solving cavity equations through forward dynamics\n",
    "        for j in individuals:#solving 3rd equation\n",
    "                for idx,mu in enumerate(neigh[j]):\n",
    "                    new=1.\n",
    "                    for nu in set(neigh[j])-{mu}:\n",
    "                        new*=(1-states[nu][neigh[nu]==j])\n",
    "                    states[j][idx]= 1-new\n",
    "        for mu in clusters: #running 2nd equation\n",
    "                for idx,i in enumerate(neigh[mu]):\n",
    "                    new=1.\n",
    "                    for j in set(neigh[mu])-{i}:\n",
    "                        new*=(1-p*states[j][neigh[j]==mu])\n",
    "                    states[mu][idx]= 1-new\n",
    "    #end = time.time()\n",
    "    #print('it took',end-start,' seconds')\n",
    "\n",
    "    risk ={}\n",
    "    for i in individuals:#solving 3rd equation\n",
    "        new=1\n",
    "        for mu in set(neigh[i]):\n",
    "            new*=(1-states[mu][neigh[mu]==i])\n",
    "        risk[i]= 1-new\n",
    "    return risk\n",
    "\n",
    "def single_instance2(neigh,states):\n",
    "    individuals = set(range(N_a)).intersection(set(neigh.keys())) \n",
    "    clusters = set(range(N_a,N_a+N_b)).intersection(set(neigh.keys()))\n",
    "    #start = time.time()\n",
    "    for count in range(N_iterations):    #solving cavity equations through forward dynamics\n",
    "        for j in individuals:#solving 3rd equation\n",
    "                data = []\n",
    "                for mu in neigh[j]:\n",
    "                    data+= [1.- np.prod([1.-states[nu][neigh[nu]==j] for nu in set(neigh[j])-{mu}])]\n",
    "                states[j]=np.array(data)\n",
    "        for mu in clusters: #running 2nd equation\n",
    "                data=[]\n",
    "                for i in neigh[mu]:\n",
    "                    data+= [1- np.prod([1-p*states[j][neigh[j]==mu] for j in set(neigh[mu])-{i}])]\n",
    "                states[mu]=np.array(data)\n",
    "    '''\n",
    "    a = [np.ravel(el) for el in a]\n",
    "    b = [np.ravel(el) for el in b]\n",
    "    states = dict(zip(individuals|clusters,a+b))\n",
    "    '''\n",
    "    #end = time.time()\n",
    "    #return states\n",
    "    #print('it took',end-start,' seconds')\n",
    "    risk ={}\n",
    "    for i in individuals:#solving 3rd equation\n",
    "        risk[i] = 1-np.prod([1.-states[mu][neigh[mu]==i] for mu in set(neigh[i])])\n",
    "    return risk\n",
    "\n",
    " "
   ]
  },
  {
   "cell_type": "code",
   "execution_count": 38,
   "metadata": {},
   "outputs": [
    {
     "name": "stdout",
     "output_type": "stream",
     "text": [
      "Exit after  11  iterations\n",
      "CPU times: user 4.04 s, sys: 69.2 ms, total: 4.11 s\n",
      "Wall time: 5.39 s\n"
     ]
    }
   ],
   "source": [
    "#%time risk = single_instance(neigh,states)\n",
    "#%time risk2 = single_instance2(neigh,states)\n",
    "%time risk2 = single_instance_numba(neigh,states,p)"
   ]
  },
  {
   "cell_type": "code",
   "execution_count": 18,
   "metadata": {},
   "outputs": [
    {
     "data": {
      "text/plain": [
       "0.5558603417397091"
      ]
     },
     "execution_count": 18,
     "metadata": {},
     "output_type": "execute_result"
    }
   ],
   "source": [
    "np.mean([el for el in risk2.values() ])\n"
   ]
  },
  {
   "cell_type": "code",
   "execution_count": 15,
   "metadata": {},
   "outputs": [
    {
     "data": {
      "text/plain": [
       "Text(0.5, 1.0, '100000 inh., 100000 clusters, <cluster size> = 4.0, p=0.1')"
      ]
     },
     "execution_count": 15,
     "metadata": {},
     "output_type": "execute_result"
    },
    {
     "data": {
      "image/png": "[encoded data removed]",
      "text/plain": [
       "<Figure size 432x288 with 1 Axes>"
      ]
     },
     "metadata": {
      "needs_background": "light"
     },
     "output_type": "display_data"
    }
   ],
   "source": [
    "#plt.hist([el for el in states.values() ],bins = 50)\n",
    "plt.hist([el for el in risk2.values()],bins = 100,density = True)\n",
    "plt.xlabel('prob of being infected')\n",
    "plt.ylabel('number of people')\n",
    "plt.title(str(N_a)+' inh., '+str(N_b)+' clusters, <cluster size> = '+str(N_a*a_mean/N_b)+', p=' + str(p))\n",
    "#plt.savefig('single_instance.pdf')\n",
    "#plt.semilogy()"
   ]
  },
  {
   "cell_type": "code",
   "execution_count": 36,
   "metadata": {},
   "outputs": [
    {
     "data": {
      "text/plain": [
       "(array([1332.,  460.,  591.,  642.,  660.,  603.,  569.,  486.,  494.,\n",
       "         484.,  435.,  430.,  385.,  318.,  309.,  250.,  247.,  185.,\n",
       "         151.,  135.,  109.,   70.,   60.,   54.,   39.,   31.,   33.,\n",
       "          17.,   21.,    3.,    6.,    4.,    2.,    7.,    3.,    0.,\n",
       "           3.,    2.,    2.,    2.]),\n",
       " array([0.        , 0.0101457 , 0.0202914 , 0.0304371 , 0.0405828 ,\n",
       "        0.0507285 , 0.0608742 , 0.0710199 , 0.0811656 , 0.0913113 ,\n",
       "        0.101457  , 0.1116027 , 0.12174841, 0.13189411, 0.14203981,\n",
       "        0.15218551, 0.16233121, 0.17247691, 0.18262261, 0.19276831,\n",
       "        0.20291401, 0.21305971, 0.22320541, 0.23335111, 0.24349681,\n",
       "        0.25364251, 0.26378821, 0.27393391, 0.28407961, 0.29422531,\n",
       "        0.30437101, 0.31451671, 0.32466241, 0.33480811, 0.34495381,\n",
       "        0.35509952, 0.36524522, 0.37539092, 0.38553662, 0.39568232,\n",
       "        0.40582802]),\n",
       " <a list of 40 Patch objects>)"
      ]
     },
     "execution_count": 36,
     "metadata": {},
     "output_type": "execute_result"
    },
    {
     "data": {
      "image/png": "[encoded data removed]",
      "text/plain": [
       "<Figure size 432x288 with 1 Axes>"
      ]
     },
     "metadata": {
      "needs_background": "light"
     },
     "output_type": "display_data"
    }
   ],
   "source": [
    "#list(states.values())\n",
    "plt.hist(list(map(lambda x:max(x)-min(x),states.values()))[10000:],40)"
   ]
  },
  {
   "cell_type": "code",
   "execution_count": 65,
   "metadata": {},
   "outputs": [
    {
     "data": {
      "text/plain": [
       "Text(0, 0.5, '$\\\\sum_im_\\\\mu^{(i)}$')"
      ]
     },
     "execution_count": 65,
     "metadata": {},
     "output_type": "execute_result"
    },
    {
     "data": {
      "image/png": "[encoded data removed]",
      "text/plain": [
       "<Figure size 432x288 with 1 Axes>"
      ]
     },
     "metadata": {
      "needs_background": "light"
     },
     "output_type": "display_data"
    },
    {
     "data": {
      "image/png": "[encoded data removed]",
      "text/plain": [
       "<Figure size 432x288 with 1 Axes>"
      ]
     },
     "metadata": {
      "needs_background": "light"
     },
     "output_type": "display_data"
    }
   ],
   "source": [
    "risk_clusters = {mu:sum(states[mu]) for mu in range(N_a,N_a+N_b)}\n",
    "plt.hist(risk_clusters.values(),density=True)\n",
    "plt.xlabel('$\\\\sum_im_\\mu^{(i)}$, expected n. of infected individuals',fontsize = 14)\n",
    "plt.ylabel('frequency density')\n",
    "plt.figure()\n",
    "plt.plot(sorted(risk_clusters.values(),reverse=True)[:1000])\n",
    "plt.xlabel('rank')\n",
    "plt.ylabel('$\\\\sum_im_\\mu^{(i)}$',fontsize = 14)"
   ]
  },
  {
   "cell_type": "code",
   "execution_count": 71,
   "metadata": {},
   "outputs": [
    {
     "data": {
      "text/plain": [
       "Text(0, 0.5, 'degree of $\\\\mu$')"
      ]
     },
     "execution_count": 71,
     "metadata": {},
     "output_type": "execute_result"
    },
    {
     "data": {
      "image/png": "[encoded data removed]",
      "text/plain": [
       "<Figure size 432x288 with 1 Axes>"
      ]
     },
     "metadata": {
      "needs_background": "light"
     },
     "output_type": "display_data"
    }
   ],
   "source": [
    "ranked_risk =sorted(risk_clusters,key = risk_clusters.get,reverse=True)\n",
    "plt.plot(list(map(lambda x:x[1],BG.degree(ranked_risk))),'.')\n",
    "plt.xlim(0,100)\n",
    "plt.xlabel('rank of cluster w.r.t. $\\\\sum_im_\\mu^{(i)}$',fontsize=14)\n",
    "plt.ylabel('degree of $\\mu$')"
   ]
  },
  {
   "cell_type": "code",
   "execution_count": 60,
   "metadata": {},
   "outputs": [
    {
     "name": "stdout",
     "output_type": "stream",
     "text": [
      "it took 382.89174580574036  seconds\n"
     ]
    }
   ],
   "source": [
    "BG_filt = BG.copy()\n",
    "BG_filt.remove_nodes_from(ranked_risk[:1000])\n",
    "neigh_filt = Convert(BG_filt.edges())\n",
    "states_filt = {key:np.ones(len(value)) for key,value in neigh_filt.items()}#states[x][y] indicates the state of node \"x cavity neigh[x][y]\"\"\n",
    "risk_filt = single_instance(neigh_filt,states_filt)"
   ]
  },
  {
   "cell_type": "code",
   "execution_count": 18,
   "metadata": {},
   "outputs": [
    {
     "data": {
      "text/plain": [
       "{1: array([2]), 2: array([1])}"
      ]
     },
     "execution_count": 18,
     "metadata": {},
     "output_type": "execute_result"
    }
   ],
   "source": [
    "#ranked_risk[0] in list(map(lambda x:x[1],BG_filt.edges()))\n",
    "#neigh_filt[ranked_risk[0]]\n",
    "#len(np.unique(list(map(lambda x:x[0],BG_filt.edges()))))\n",
    "neigh[1],neigh_filt[1]\n",
    "Convert([(1,2)],{})"
   ]
  },
  {
   "cell_type": "code",
   "execution_count": 67,
   "metadata": {},
   "outputs": [
    {
     "data": {
      "image/png": "[encoded data removed]",
      "text/plain": [
       "<Figure size 432x288 with 1 Axes>"
      ]
     },
     "metadata": {
      "needs_background": "light"
     },
     "output_type": "display_data"
    }
   ],
   "source": [
    "\n",
    "plt.hist([x for el in risk.values() for x in el],bins = 200,density = True)\n",
    "plt.hist([x for el in risk_filt.values() for x in el],bins = 200,density = True,alpha = 0.5,label = 'best '+str(round(1-len(set(BG_filt.nodes()).intersection(set(range(N_a,N_a+N_b))))/N_b,2))+'% of clusters')\n",
    "plt.xlabel('prob of being infected')\n",
    "plt.ylabel('number of people')\n",
    "plt.title(str(N_a)+' inh., '+str(N_b)+' clusters, <cluster size> = '+str(N_a*a_mean/N_b)+', p=' + str(p))\n",
    "plt.legend()\n",
    "#plt.savefig('target_delition.pdf')\n"
   ]
  },
  {
   "cell_type": "code",
   "execution_count": 69,
   "metadata": {},
   "outputs": [],
   "source": [
    "dic = {'states':states,'states_filt':states_filt,'neigh':neigh,'neigh_filt':neigh_filt,'risk':risk,'risk_filt':risk_filt}\n",
    "save_obj(dic,'single_instance')"
   ]
  },
  {
   "cell_type": "markdown",
   "metadata": {},
   "source": [
    "## Projected graph"
   ]
  },
  {
   "cell_type": "markdown",
   "metadata": {},
   "source": [
    "$$\n",
    "v_j^{(k)} \\equiv\\langle n_j^{(k)}\\rangle = 1-\\prod_{\\nu\\in\\partial _j\\setminus k }\\left(1-pv_\\nu^{(j)}\\right)\n",
    "$$\n",
    "$$\n",
    "v_i \\equiv\\langle n_i\\rangle = 1-\\prod_{j\\in\\partial _i }\\left(1-pv_j\\right)\n",
    "$$"
   ]
  },
  {
   "cell_type": "code",
   "execution_count": 143,
   "metadata": {},
   "outputs": [],
   "source": [
    "G = nx.algorithms.bipartite.projected_graph(BG,range(N_a))\n",
    "neigh = Convert(G.edges())\n",
    "states = {key:np.ones(len(value)) for key,value in neigh.items()}#states[x][y] indicates the state of node \"x cavity neigh[x][y]\"\""
   ]
  },
  {
   "cell_type": "code",
   "execution_count": null,
   "metadata": {},
   "outputs": [],
   "source": [
    "def update(j,neighbour):\n",
    "    '''Returns the cavity states associated to  node j'''\n",
    "    #neighbour is neigh[j]\n",
    "    data = []\n",
    "    for idx,k in enumerate(neighbour):\n",
    "        new=1    \n",
    "        for nu in set(neighbour)-{k}:\n",
    "            new*=(1-p*states[nu][neigh[nu]==j])\n",
    "        states[j][idx]+=[1-new]\n",
    "individuals = set(range(N_a)).intersection(set(neigh.keys()))\n",
    "#solving 3rd equation\n",
    "start = time.time()\n",
    "#pool = Pool()\n",
    "for count in range(N_iterations):\n",
    "    for j,neighbour in neigh.items():\n",
    "        update(j,neighbour)\n",
    "#a = pool.starmap(update, neigh.items())\n",
    "#pool.close()\n",
    "end = time.time()\n",
    "print('It tooks ',end-start, ' seconds')\n",
    "risk ={}\n",
    "for i in individuals:#solving 3rd equation\n",
    "    risk[i] = 1-np.prod([1-p*states[j][neigh[j]==i] for j in set(neigh[i])])\n",
    "\n",
    "#states[j][idx]= 1-new\n",
    " "
   ]
  },
  {
   "cell_type": "code",
   "execution_count": 185,
   "metadata": {},
   "outputs": [
    {
     "data": {
      "text/plain": [
       "(array([2.000e+00, 0.000e+00, 0.000e+00, 2.000e+00, 4.000e+00, 4.000e+00,\n",
       "        1.100e+01, 1.500e+01, 4.400e+01, 5.916e+03]),\n",
       " array([0.1 , 0.19, 0.28, 0.37, 0.46, 0.55, 0.64, 0.73, 0.82, 0.91, 1.  ]),\n",
       " <a list of 10 Patch objects>)"
      ]
     },
     "execution_count": 185,
     "metadata": {},
     "output_type": "execute_result"
    },
    {
     "data": {
      "image/png": "[encoded data removed]",
      "text/plain": [
       "<Figure size 432x288 with 1 Axes>"
      ]
     },
     "metadata": {
      "needs_background": "light"
     },
     "output_type": "display_data"
    }
   ],
   "source": [
    "plt.hist(risk.values())\n",
    "#new*(1-states[mu][neigh[mu]==i])\n"
   ]
  },
  {
   "cell_type": "code",
   "execution_count": 55,
   "metadata": {},
   "outputs": [
    {
     "name": "stdout",
     "output_type": "stream",
     "text": [
      "It tooks  0.43773651123046875  ms\n",
      "CPU times: user 488 µs, sys: 246 µs, total: 734 µs\n",
      "Wall time: 595 µs\n"
     ]
    },
    {
     "data": {
      "text/plain": [
       "4.115390615893796e-32"
      ]
     },
     "execution_count": 55,
     "metadata": {},
     "output_type": "execute_result"
    }
   ],
   "source": [
    "start = time.time()\n",
    "new = 1\n",
    "for mu in set(neigh[i]):\n",
    "        new *=(1-states[mu][neigh[mu]==i])\n",
    "end = time.time()\n",
    "print('It tooks ',(end-start)*1000, ' ms')\n",
    "%time np.prod([1-states[mu][neigh[mu]==i] for mu in set(neigh[i])])\n"
   ]
  },
  {
   "cell_type": "code",
   "execution_count": 56,
   "metadata": {},
   "outputs": [
    {
     "data": {
      "text/plain": [
       "array([4.11539062e-32])"
      ]
     },
     "execution_count": 56,
     "metadata": {},
     "output_type": "execute_result"
    }
   ],
   "source": [
    "new"
   ]
  },
  {
   "cell_type": "markdown",
   "metadata": {},
   "source": [
    "## Population dynamics"
   ]
  },
  {
   "cell_type": "code",
   "execution_count": 29,
   "metadata": {},
   "outputs": [
    {
     "name": "stderr",
     "output_type": "stream",
     "text": [
      "/opt/miniconda3/lib/python3.7/site-packages/ipykernel_launcher.py:1: ParserWarning: Falling back to the 'python' engine because the 'c' engine does not support regex separators (separators > 1 char and different from '\\s+' are interpreted as regex); you can avoid this warning by specifying engine='python'.\n",
      "  \"\"\"Entry point for launching an IPython kernel.\n"
     ]
    }
   ],
   "source": [
    "df = pd.read_csv('/Data/SISIR-Bip-N1+P1M1+P3-p0.3',sep = '   ',names =['v','prob'])"
   ]
  },
  {
   "cell_type": "code",
   "execution_count": 12,
   "metadata": {},
   "outputs": [
    {
     "data": {
      "image/png": "[encoded data removed]",
      "text/plain": [
       "<Figure size 432x288 with 1 Axes>"
      ]
     },
     "metadata": {
      "needs_background": "light"
     },
     "output_type": "display_data"
    }
   ],
   "source": [
    "plt.plot(*zip(*df.iloc[1:].values),label = 'pop. dynamics')\n",
    "plt.hist([x for el in risk.values() for x in el],bins = 100,density = True,label='single instance')\n",
    "plt.legend()\n",
    "#plt.savefig('pop_vs_single.pdf')"
   ]
  },
  {
   "cell_type": "code",
   "execution_count": 227,
   "metadata": {},
   "outputs": [],
   "source": [
    "import random"
   ]
  },
  {
   "cell_type": "code",
   "execution_count": 20,
   "metadata": {},
   "outputs": [],
   "source": [
    "Np_a  = 20000#size of population of indivuals\n",
    "Np_b  = 20000#size of population of clusters\n",
    "N_iterations = 10\n",
    "N_measures = 10000\n",
    "a_mean = 4\n",
    "b_mean = 4\n",
    "k = np.arange(1,10)\n",
    "\n",
    "p_aseq = random.choices(k,np.exp(-a_mean)*a_mean**(k-1)/factorial(k-1),k =  Np_a*N_iterations)\n",
    "q_aseq = random.choices(k,np.exp(-a_mean)*a_mean**(k-1)*k/factorial(k-1),k =  Np_a*N_iterations)\n",
    "q_bseq = random.choices(k,np.exp(-b_mean)*b_mean**(k-1)*k/factorial(k-1),k =  Np_a*N_iterations)\n",
    "p = 0.1"
   ]
  },
  {
   "cell_type": "code",
   "execution_count": 21,
   "metadata": {},
   "outputs": [],
   "source": [
    "a_cav =np.array(list(np.ones(Np_a)))\n",
    "b_cav =np.ones(Np_b)#initialisation of cavity variable of clusters"
   ]
  },
  {
   "cell_type": "code",
   "execution_count": 22,
   "metadata": {},
   "outputs": [],
   "source": [
    "for count in range(N_iterations):\n",
    "    for i,mu in zip(range(Np_a),range(Np_b)): #it works if Np_a = Np_b\n",
    "        nu =random.sample(range(len(b_cav)),q_aseq.pop())#  mu are the neighbours\n",
    "        j = random.sample(range(len(a_cav)),q_bseq.pop())#  j are the neighbours\n",
    "        a_cav[i] = 1-(np.prod(1-np.array(b_cav[nu])))\n",
    "        b_cav[mu] = 1-(np.prod(1-p*np.array(a_cav[j])))\n",
    "risk_a = []\n",
    "risk_b = []\n",
    "for i,mu in zip(range(Np_a),range(Np_b)): #it works if Np_a = Np_b\n",
    "    nu =random.sample(range(len(b_cav)),p_aseq.pop())#  mu are the neighbours\n",
    "    risk_a += [1-(np.prod(1-np.array(b_cav[nu])))]\n",
    "    \n",
    "\n",
    "    \n",
    "    "
   ]
  },
  {
   "cell_type": "code",
   "execution_count": 23,
   "metadata": {},
   "outputs": [
    {
     "data": {
      "text/plain": [
       "Text(0.5, 0, 'risk')"
      ]
     },
     "execution_count": 23,
     "metadata": {},
     "output_type": "execute_result"
    },
    {
     "data": {
      "image/png": "[encoded data removed]",
      "text/plain": [
       "<Figure size 432x288 with 1 Axes>"
      ]
     },
     "metadata": {
      "needs_background": "light"
     },
     "output_type": "display_data"
    }
   ],
   "source": [
    "plt.hist(risk_a,200)\n",
    "plt.xlabel('risk')"
   ]
  },
  {
   "cell_type": "markdown",
   "metadata": {},
   "source": [
    "# Structured network"
   ]
  },
  {
   "cell_type": "code",
   "execution_count": 2,
   "metadata": {},
   "outputs": [],
   "source": [
    "def _add_nodes_with_bipartite_label(G, lena, lenb):\n",
    "    G.add_nodes_from(range(0,lena+lenb))\n",
    "    b=dict(zip(range(0,lena),[0]*lena))\n",
    "    b.update(dict(zip(range(lena,lena+lenb),[1]*lenb)))\n",
    "    if nx.__version__>'2':\n",
    "         nx.set_node_attributes(G,b,'bipartite')\n",
    "    else:\n",
    "         nx.set_node_attributes(G,'bipartite',b)\n",
    "    return G\n",
    "\n",
    "N_a = 40_000# n people\n",
    "N_b = 40_000 #n clusters\n",
    "f_n = [0.25,0.25,0.5] # fraction of people in group n\n",
    "g_a = [0.4,0.5,0.1] # fraction of clusters in group a\n",
    "G = nx.empty_graph(0, default=nx.Graph)\n",
    "G = _add_nodes_with_bipartite_label(G, N_a, N_b)\n",
    "p = 0.2\n",
    "\n",
    "a_mean = 3. #average degree of the distribution\n",
    "#b_mean = (a_mean )* N_a / N_b \n",
    "#aseq,bseq = bipartite_degree_seq(N_a*f_n[0],N_b*g_a[0],'shifted_poisson','shifted_poisson',{'lam':a_mean},{'lam':N_a*a_mean/N_b})\n"
   ]
  },
  {
   "cell_type": "code",
   "execution_count": 71,
   "metadata": {},
   "outputs": [
    {
     "name": "stdout",
     "output_type": "stream",
     "text": [
      "<built-in method poisson of numpy.random.mtrand.RandomState object at 0x7fafcf0beaf0>\n",
      "<function shifted_poisson at 0x7fafd28813b0>\n",
      "<built-in method poisson of numpy.random.mtrand.RandomState object at 0x7fafcf0beaf0>\n",
      "<built-in method poisson of numpy.random.mtrand.RandomState object at 0x7fafcf0beaf0>\n",
      "<built-in method poisson of numpy.random.mtrand.RandomState object at 0x7fafcf0beaf0>\n"
     ]
    }
   ],
   "source": [
    "G = nx.empty_graph(0, default=nx.Graph)\n",
    "G = _add_nodes_with_bipartite_label(G, N_a, N_b)\n",
    "a_stubs = range(int(N_a*f_n[0]))\n",
    "b_stubs = random.choices(np.arange(N_a,int(N_a+N_b*g_a[0])),k = int(N_a*f_n[0]))\n",
    "G.add_edges_from(zip(a_stubs,b_stubs))#n=0->a=0 \n",
    "\n",
    "aseq,bseq = bipartite_degree_seq(int(N_a*f_n[1]),int(N_b*g_a[0]),'poisson','poisson',{'lam':1},{'lam':5/8}) \n",
    "a_stubs = itertools.chain.from_iterable([[i+int(N_a*f_n[0])]*k for i,k in enumerate(aseq) if k >0])\n",
    "b_stubs = list(itertools.chain.from_iterable([[mu+ N_a]*k for mu,k in enumerate(bseq) if k >0]))\n",
    "random.shuffle(b_stubs)\n",
    "G.add_edges_from(zip(a_stubs,b_stubs))#n=1->a=0\n",
    "\n",
    "aseq,bseq = bipartite_degree_seq(int(N_a*f_n[2]),int(N_b*g_a[0]),'shifted_poisson','poisson',{'lam':2},{'lam':5/2})#n=2->a=0 \n",
    "a_stubs = itertools.chain.from_iterable([[i+int(N_a*(f_n[1]+f_n[0]))]*k for i,k in enumerate(aseq) if k >0])\n",
    "b_stubs = list(itertools.chain.from_iterable([[mu+ N_a]*k for mu,k in enumerate(bseq) if k >0]))\n",
    "random.shuffle(b_stubs)\n",
    "_ = G.add_edges_from(zip(a_stubs,b_stubs))\n",
    "\n",
    "aseq,bseq = bipartite_degree_seq(int(N_a*f_n[1]),int(N_b*g_a[1]),'poisson','poisson',{'lam':1},{'lam':1/2})#n=1->a=1 \n",
    "a_stubs = itertools.chain.from_iterable([[i+int(N_a*f_n[0])]*k for i,k in enumerate(aseq) if k >0])\n",
    "b_stubs = list(itertools.chain.from_iterable([[mu+ N_a+int(N_b*g_a[0])]*k for mu,k in enumerate(bseq) if k >0]))\n",
    "random.shuffle(b_stubs)\n",
    "G.add_edges_from(zip(a_stubs,b_stubs))\n",
    "\n",
    "aseq,bseq = bipartite_degree_seq(int(N_a*f_n[2]),int(N_b*g_a[1]),'poisson','poisson',{'lam':1},{'lam':1})#n=2->a=1 \n",
    "a_stubs = itertools.chain.from_iterable([[i+int(N_a*(f_n[1]+f_n[0]))]*k for i,k in enumerate(aseq) if k >0])\n",
    "b_stubs = list(itertools.chain.from_iterable([[mu+ N_a+ int(N_b*g_a[0])]*k for mu,k in enumerate(bseq) if k >0]))\n",
    "random.shuffle(b_stubs)\n",
    "G.add_edges_from(zip(a_stubs,b_stubs))\n",
    "\n",
    "aseq,bseq = bipartite_degree_seq(int(N_a*f_n[2]),int(N_b*g_a[2]),'poisson','poisson',{'lam':1},{'lam':5})#n=2->a=2 \n",
    "a_stubs = itertools.chain.from_iterable([[i+int(N_a*(f_n[1]+f_n[0]))]*k for i,k in enumerate(aseq) if k >0])\n",
    "b_stubs = list(itertools.chain.from_iterable([[mu+ N_a+ int(N_b*(g_a[1]+g_a[0]))]*k for mu,k in enumerate(bseq) if k >0]))\n",
    "random.shuffle(b_stubs)\n",
    "_ = G.add_edges_from(zip(a_stubs,b_stubs))\n"
   ]
  },
  {
   "cell_type": "code",
   "execution_count": 72,
   "metadata": {},
   "outputs": [
    {
     "data": {
      "text/plain": [
       "Text(0.5, 1.0, '$\\\\alpha=1$')"
      ]
     },
     "execution_count": 72,
     "metadata": {},
     "output_type": "execute_result"
    },
    {
     "data": {
      "image/png": "[encoded data removed]",
      "text/plain": [
       "<Figure size 432x288 with 1 Axes>"
      ]
     },
     "metadata": {
      "needs_background": "light"
     },
     "output_type": "display_data"
    }
   ],
   "source": [
    "plt.hist(list(dict(G.degree(range(N_a,int(N_a+N_b*(g_a[0]))))).values()),bins = np.arange(0,5,0.5))\n",
    "k = np.arange(0,5,1)\n",
    "plt.plot(k,np.exp(-15/4)*(15/4)**k/factorial(k)*N_b*(g_a[0]),'o')#5/4*2+5/2\n",
    "plt.title('$\\\\alpha=1$')"
   ]
  },
  {
   "cell_type": "code",
   "execution_count": 73,
   "metadata": {},
   "outputs": [
    {
     "data": {
      "text/plain": [
       "Text(0.5, 1.0, '$\\\\alpha=3$')"
      ]
     },
     "execution_count": 73,
     "metadata": {},
     "output_type": "execute_result"
    },
    {
     "data": {
      "image/png": "[encoded data removed]",
      "text/plain": [
       "<Figure size 432x288 with 1 Axes>"
      ]
     },
     "metadata": {
      "needs_background": "light"
     },
     "output_type": "display_data"
    },
    {
     "data": {
      "image/png": "[encoded data removed]",
      "text/plain": [
       "<Figure size 432x288 with 1 Axes>"
      ]
     },
     "metadata": {
      "needs_background": "light"
     },
     "output_type": "display_data"
    }
   ],
   "source": [
    "plt.hist(list(dict(G.degree(range(int(N_a+N_b*(g_a[0])),int(N_a+N_b*(g_a[1]+g_a[0]))))).values()),bins = np.arange(0,7,0.5))\n",
    "k = np.arange(0,7,1)\n",
    "plt.plot(k,np.exp(-3/2)*(3/2)**k/factorial(k)*N_b*(g_a[1]),'o')#1/2+1\n",
    "plt.title('$\\\\alpha=2$')\n",
    "plt.figure()\n",
    "plt.hist(list(dict(G.degree(range(int(N_a+N_b*(g_a[0]+g_a[1])),int(N_a+N_b*(g_a[1]+g_a[0]+g_a[2]))))).values()),bins = np.arange(0,10,0.5))\n",
    "k = np.arange(0,10,1)\n",
    "plt.plot(k,np.exp(-5)*(5)**k/factorial(k)*N_b*(g_a[2]),'o')#5/4*2+5/2\n",
    "plt.title('$\\\\alpha=3$')"
   ]
  },
  {
   "cell_type": "code",
   "execution_count": 129,
   "metadata": {},
   "outputs": [
    {
     "name": "stdout",
     "output_type": "stream",
     "text": [
      "CPU times: user 2min 24s, sys: 3.06 s, total: 2min 27s\n",
      "Wall time: 2min 37s\n"
     ]
    }
   ],
   "source": [
    "%%time\n",
    "#neigh = Convert(G.edges())\n",
    "#states = {key:np.ones(len(value)) for key,value in neigh.items()}#states[x][y] indicates the state of node \"x cavity neigh[x][y]\"\"\n",
    "neigh = Convert_typed(list(G.edges()))\n",
    "states = dict_to_typed_states(neigh)"
   ]
  },
  {
   "cell_type": "code",
   "execution_count": 136,
   "metadata": {},
   "outputs": [
    {
     "name": "stdout",
     "output_type": "stream",
     "text": [
      "Exit after  14  iterations\n"
     ]
    }
   ],
   "source": [
    "p = 0.1\n",
    "risk = single_instance_numba(neigh,states,p)"
   ]
  },
  {
   "cell_type": "code",
   "execution_count": 137,
   "metadata": {},
   "outputs": [
    {
     "data": {
      "text/plain": [
       "Text(0.5, 1.0, 'structured network,p=0.1')"
      ]
     },
     "execution_count": 137,
     "metadata": {},
     "output_type": "execute_result"
    },
    {
     "data": {
      "image/png": "[encoded data removed]",
      "text/plain": [
       "<Figure size 432x288 with 1 Axes>"
      ]
     },
     "metadata": {
      "needs_background": "light"
     },
     "output_type": "display_data"
    }
   ],
   "source": [
    "#plt.hist([x for el in risk.values() for x in el],bins = 100,density = True)\n",
    "plt.hist([el for el in risk.values() ],bins = 100,density = True)\n",
    "plt.plot(df.v,df.prob)\n",
    "plt.xlabel('prob of being infected')\n",
    "plt.ylabel('pdf of population')\n",
    "plt.title('structured network,p='+str(p))\n",
    "#plt.ylim(0,10)\n",
    "#plt.semilogy()\n",
    "#plt.savefig('structured.pdf')"
   ]
  },
  {
   "cell_type": "code",
   "execution_count": 77,
   "metadata": {},
   "outputs": [
    {
     "data": {
      "text/plain": [
       "0.14766258170617066"
      ]
     },
     "execution_count": 77,
     "metadata": {},
     "output_type": "execute_result"
    }
   ],
   "source": [
    "np.mean([x for el in risk.values() for x in el])\n"
   ]
  },
  {
   "cell_type": "code",
   "execution_count": 86,
   "metadata": {},
   "outputs": [],
   "source": [
    "p = 0.3\n",
    "risk03 = single_instance(neigh,states)"
   ]
  },
  {
   "cell_type": "code",
   "execution_count": 90,
   "metadata": {},
   "outputs": [
    {
     "data": {
      "image/png": "[encoded data removed]",
      "text/plain": [
       "<Figure size 432x288 with 1 Axes>"
      ]
     },
     "metadata": {
      "needs_background": "light"
     },
     "output_type": "display_data"
    }
   ],
   "source": [
    "plt.hist([x for el in risk03.values() for x in el],bins = 100,density = True)\n",
    "#plt.hist([el for el in risk.values() ],bins = 100,density = True)\n",
    "plt.plot(df.v,df.prob)\n",
    "plt.xlabel('prob of being infected')\n",
    "plt.ylabel('pdf of population')\n",
    "plt.title('structured network')\n",
    "#plt.savefig('structured_p=0.3.pdf')\n"
   ]
  },
  {
   "cell_type": "code",
   "execution_count": 195,
   "metadata": {},
   "outputs": [
    {
     "data": {
      "text/plain": [
       "Text(0.5, 1.0, 'degree distribution of clusters')"
      ]
     },
     "execution_count": 195,
     "metadata": {},
     "output_type": "execute_result"
    },
    {
     "data": {
      "image/png": "[encoded data removed]",
      "text/plain": [
       "<Figure size 432x288 with 1 Axes>"
      ]
     },
     "metadata": {
      "needs_background": "light"
     },
     "output_type": "display_data"
    },
    {
     "data": {
      "image/png": "[encoded data removed]",
      "text/plain": [
       "<Figure size 432x288 with 1 Axes>"
      ]
     },
     "metadata": {
      "needs_background": "light"
     },
     "output_type": "display_data"
    }
   ],
   "source": [
    "plt.hist(list(dict(G.degree(range(N_a))).values()),bins = np.arange(0,10,0.5))\n",
    "k = np.arange(0,7,1)\n",
    "plt.title('degree distribution of individuals')\n",
    "x = np.pad([0,N_a*(f_n[0])],(0,len(k)-2))+np.exp(-2)*(2)**k/factorial(k)*N_a*(f_n[1])+np.pad((np.exp(-3)*(3)**(k[:-1])/factorial(k[:-1]))*N_a*(f_n[2]),(1,0))\n",
    "plt.plot(k,x,'o')\n",
    "\n",
    "plt.figure()\n",
    "plt.hist(list(dict(G.degree(range(N_a,N_a+N_b))).values()),bins = np.arange(0,7,0.5))\n",
    "k = np.arange(0,7,1)\n",
    "plt.plot(k,np.exp(-3/2)*(3/2)**k/factorial(k)*N_b*(g_a[1])+np.exp(-5)*(5)**k/factorial(k)*N_b*(g_a[2])+np.exp(-15/4)*(15/4)**k/factorial(k)*N_b*(g_a[0]),'o')#1/2+1\n",
    "plt.title('degree distribution of clusters')"
   ]
  },
  {
   "cell_type": "code",
   "execution_count": 78,
   "metadata": {},
   "outputs": [
    {
     "name": "stdout",
     "output_type": "stream",
     "text": [
      "condition for being above the percolation thr. is:  1.0474716587442423  >1\n"
     ]
    }
   ],
   "source": [
    "d = np.array(list(dict(G.degree(range(N_a))).values()))\n",
    "c = np.array(list(dict(G.degree(range(N_a,N_b+N_a))).values()))\n",
    "print('condition for being above the percolation thr. is: ',(np.mean(d**2)/np.mean(d)-1)*(np.mean(c**2)/np.mean(c)-1)*p,' >1')"
   ]
  },
  {
   "cell_type": "code",
   "execution_count": 91,
   "metadata": {},
   "outputs": [
    {
     "name": "stdout",
     "output_type": "stream",
     "text": [
      "0.09754262020181631  mean activation prob\n"
     ]
    },
    {
     "name": "stderr",
     "output_type": "stream",
     "text": [
      "/opt/miniconda3/lib/python3.7/site-packages/ipykernel_launcher.py:3: ParserWarning: Falling back to the 'python' engine because the 'c' engine does not support regex separators (separators > 1 char and different from '\\s+' are interpreted as regex); you can avoid this warning by specifying engine='python'.\n",
      "  This is separate from the ipykernel package so we can avoid doing imports until\n"
     ]
    },
    {
     "data": {
      "text/html": [
       "<div>\n",
       "<style scoped>\n",
       "    .dataframe tbody tr th:only-of-type {\n",
       "        vertical-align: middle;\n",
       "    }\n",
       "\n",
       "    .dataframe tbody tr th {\n",
       "        vertical-align: top;\n",
       "    }\n",
       "\n",
       "    .dataframe thead th {\n",
       "        text-align: right;\n",
       "    }\n",
       "</style>\n",
       "<table border=\"1\" class=\"dataframe\">\n",
       "  <thead>\n",
       "    <tr style=\"text-align: right;\">\n",
       "      <th></th>\n",
       "      <th>v</th>\n",
       "      <th>prob</th>\n",
       "    </tr>\n",
       "  </thead>\n",
       "  <tbody>\n",
       "    <tr>\n",
       "      <th>0</th>\n",
       "      <td>0.001</td>\n",
       "      <td>2.232746</td>\n",
       "    </tr>\n",
       "    <tr>\n",
       "      <th>1</th>\n",
       "      <td>0.002</td>\n",
       "      <td>2.962067</td>\n",
       "    </tr>\n",
       "    <tr>\n",
       "      <th>2</th>\n",
       "      <td>0.003</td>\n",
       "      <td>3.465350</td>\n",
       "    </tr>\n",
       "    <tr>\n",
       "      <th>3</th>\n",
       "      <td>0.004</td>\n",
       "      <td>3.798805</td>\n",
       "    </tr>\n",
       "    <tr>\n",
       "      <th>4</th>\n",
       "      <td>0.005</td>\n",
       "      <td>4.149086</td>\n",
       "    </tr>\n",
       "    <tr>\n",
       "      <th>...</th>\n",
       "      <td>...</td>\n",
       "      <td>...</td>\n",
       "    </tr>\n",
       "    <tr>\n",
       "      <th>995</th>\n",
       "      <td>0.996</td>\n",
       "      <td>0.000000</td>\n",
       "    </tr>\n",
       "    <tr>\n",
       "      <th>996</th>\n",
       "      <td>0.997</td>\n",
       "      <td>0.000000</td>\n",
       "    </tr>\n",
       "    <tr>\n",
       "      <th>997</th>\n",
       "      <td>0.998</td>\n",
       "      <td>0.000000</td>\n",
       "    </tr>\n",
       "    <tr>\n",
       "      <th>998</th>\n",
       "      <td>0.999</td>\n",
       "      <td>0.000000</td>\n",
       "    </tr>\n",
       "    <tr>\n",
       "      <th>999</th>\n",
       "      <td>1.000</td>\n",
       "      <td>0.000000</td>\n",
       "    </tr>\n",
       "  </tbody>\n",
       "</table>\n",
       "<p>1000 rows × 2 columns</p>\n",
       "</div>"
      ],
      "text/plain": [
       "         v      prob\n",
       "0    0.001  2.232746\n",
       "1    0.002  2.962067\n",
       "2    0.003  3.465350\n",
       "3    0.004  3.798805\n",
       "4    0.005  4.149086\n",
       "..     ...       ...\n",
       "995  0.996  0.000000\n",
       "996  0.997  0.000000\n",
       "997  0.998  0.000000\n",
       "998  0.999  0.000000\n",
       "999  1.000  0.000000\n",
       "\n",
       "[1000 rows x 2 columns]"
      ]
     },
     "execution_count": 91,
     "metadata": {},
     "output_type": "execute_result"
    }
   ],
   "source": [
    "#comparison with population dynamics\n",
    "#df = pd.read_csv('Data/SIRBStrPopDyn-P-tb01Np10k',sep = '   ',skiprows=1,usecols=[1,5],names =['v','prob'])\n",
    "df = pd.read_csv('./Data/SIRBStrPopDyn-P-tb01',sep = '   ',skiprows=1,usecols=[1,5],names =['v','prob'])\n",
    "print(np.dot(df.prob,df.v)*0.001,' mean activation prob')\n",
    "df"
   ]
  },
  {
   "cell_type": "markdown",
   "metadata": {},
   "source": [
    "### Comparison with the unstructured"
   ]
  },
  {
   "cell_type": "code",
   "execution_count": 79,
   "metadata": {},
   "outputs": [
    {
     "name": "stdout",
     "output_type": "stream",
     "text": [
      "<built-in method poisson of numpy.random.mtrand.RandomState object at 0x7fdbd02abaf0>\n"
     ]
    }
   ],
   "source": [
    "k_mean =  sum(dict(G.degree(range(N_a))).values())/N_a\n",
    "aseq,bseq = bipartite_degree_seq(N_a,N_b,'poisson','poisson',{'lam':k_mean},{'lam':k_mean})\n",
    "a_stubs = itertools.chain.from_iterable([[i]*k for i,k in enumerate(aseq) if k >0])\n",
    "b_stubs = list(itertools.chain.from_iterable([[mu+ N_a]*k for mu,k in enumerate(bseq) if k >0]))\n",
    "random.shuffle(b_stubs)\n",
    "G_unstr = nx.empty_graph(0, default=nx.Graph)\n",
    "G_unstr = _add_nodes_with_bipartite_label(G_unstr, N_a, N_b)\n",
    "G_unstr.add_edges_from(zip(a_stubs,b_stubs))#n=1->a=0\n"
   ]
  },
  {
   "cell_type": "code",
   "execution_count": 80,
   "metadata": {},
   "outputs": [],
   "source": [
    "neigh = Convert(G_unstr.edges())\n",
    "states = {key:np.ones(len(value)) for key,value in neigh.items()}#states[x][y] indicates the state of node \"x cavity neigh[x][y]\"\"\n"
   ]
  },
  {
   "cell_type": "code",
   "execution_count": 81,
   "metadata": {},
   "outputs": [],
   "source": [
    "p = 0.1\n",
    "risk = single_instance(neigh,states)"
   ]
  },
  {
   "cell_type": "code",
   "execution_count": 62,
   "metadata": {},
   "outputs": [
    {
     "data": {
      "text/plain": [
       "array([0., 1., 0., 0.])"
      ]
     },
     "execution_count": 62,
     "metadata": {},
     "output_type": "execute_result"
    }
   ],
   "source": [
    "np.zeros(4)+[0,1,0,0]"
   ]
  },
  {
   "cell_type": "code",
   "execution_count": 82,
   "metadata": {},
   "outputs": [
    {
     "data": {
      "text/plain": [
       "Text(0.5, 1.0, 'structured network')"
      ]
     },
     "execution_count": 82,
     "metadata": {},
     "output_type": "execute_result"
    },
    {
     "data": {
      "image/png": "[encoded data removed]",
      "text/plain": [
       "<Figure size 432x288 with 1 Axes>"
      ]
     },
     "metadata": {
      "needs_background": "light"
     },
     "output_type": "display_data"
    }
   ],
   "source": [
    "plt.hist([x for el in risk.values() for x in el],bins = 100,density = True)\n",
    "plt.xlabel('prob of being infected')\n",
    "plt.ylabel('pdf of population')\n",
    "plt.title('structured network')\n"
   ]
  },
  {
   "cell_type": "markdown",
   "metadata": {},
   "source": [
    "Parallel version of cavity dynamics, which is really slower"
   ]
  },
  {
   "cell_type": "code",
   "execution_count": 5,
   "metadata": {},
   "outputs": [
    {
     "name": "stdout",
     "output_type": "stream",
     "text": [
      "58.57775902748108\n"
     ]
    }
   ],
   "source": [
    "#neighbours = neigh[j]\n",
    "def cavity_individuals(neighbours,j,states2): \n",
    "            values = []\n",
    "            for idx,mu in enumerate(neighbours):\n",
    "                new=1.\n",
    "                for nu in set(neighbours)-{mu}:\n",
    "                    #print(nu,states2[nu][neigh[nu]==j])\n",
    "                    new*=(1-states2[nu][neigh[nu]==j])\n",
    "                values +=[1-new]\n",
    "            return np.ravel(values)\n",
    "#neighbours = neigh[mu]\n",
    "def cavity_clusters(neighbours,mu,states2):\n",
    "            #running 2nd equation\n",
    "            values = []\n",
    "            for idx,i in enumerate(neighbours):\n",
    "                new=1.\n",
    "                for j in set(neighbours)-{i}:\n",
    "                    new*=(1-p*states2[j][neigh[j]==mu])\n",
    "                values += [1-new]\n",
    "            return np.ravel(values)\n",
    "N_iterations = 5\n",
    "states2= {key:np.ones(len(value)) for key,value in neigh.items()}#states[x][y] indicates the state of node \"x cavity neigh[x][y]\"\"\n",
    "start =time.time()\n",
    "\n",
    "for count in range(N_iterations):    #solving cavity equations through forward dynamics\n",
    "    pool = Pool()\n",
    "    values = itertools.starmap(cavity_individuals,[(neigh[j],j,{nu:states2[nu] for nu in neigh[j]})\n",
    "                                              for j in np.arange(N_a)])\n",
    "    states2 = {**states2,**dict(zip(range(N_a),values))}\n",
    "    values = itertools.starmap(cavity_clusters,[(neigh[mu],mu,{j:states2[j] for j in neigh[mu]})\n",
    "                                              for mu in np.arange(N_a,N_a+N_b)])\n",
    "    states2 = {**states2,**dict(zip(range(N_a,N_a+N_b),values))}\n",
    "    pool.close()\n",
    "end = time.time()\n",
    "\n",
    "print(end-start)"
   ]
  },
  {
   "cell_type": "code",
   "execution_count": 250,
   "metadata": {},
   "outputs": [
    {
     "data": {
      "text/plain": [
       "(0.25, 0.25)"
      ]
     },
     "execution_count": 250,
     "metadata": {},
     "output_type": "execute_result"
    }
   ],
   "source": [
    "1/4,5/8*4/10"
   ]
  },
  {
   "cell_type": "code",
   "execution_count": 253,
   "metadata": {},
   "outputs": [
    {
     "data": {
      "text/plain": [
       "(0.25, 0.25)"
      ]
     },
     "execution_count": 253,
     "metadata": {},
     "output_type": "execute_result"
    }
   ],
   "source": [
    "1/4,5/8*4/10"
   ]
  },
  {
   "cell_type": "code",
   "execution_count": 252,
   "metadata": {},
   "outputs": [
    {
     "data": {
      "text/plain": [
       "(1.0, 1.0)"
      ]
     },
     "execution_count": 252,
     "metadata": {},
     "output_type": "execute_result"
    }
   ],
   "source": [
    "2*1/2,5/2*4/10"
   ]
  },
  {
   "cell_type": "code",
   "execution_count": 18,
   "metadata": {},
   "outputs": [
    {
     "ename": "AttributeError",
     "evalue": "'numpy.ndarray' object has no attribute 'append'",
     "output_type": "error",
     "traceback": [
      "\u001b[0;31m---------------------------------------------------------------------------\u001b[0m",
      "\u001b[0;31mAttributeError\u001b[0m                            Traceback (most recent call last)",
      "\u001b[0;32m<ipython-input-18-0c4003683432>\u001b[0m in \u001b[0;36m<module>\u001b[0;34m()\u001b[0m\n\u001b[1;32m      1\u001b[0m \u001b[0ma\u001b[0m \u001b[0;34m=\u001b[0m \u001b[0mnp\u001b[0m\u001b[0;34m.\u001b[0m\u001b[0mzeros\u001b[0m\u001b[0;34m(\u001b[0m\u001b[0;36m3\u001b[0m\u001b[0;34m)\u001b[0m\u001b[0;34m\u001b[0m\u001b[0;34m\u001b[0m\u001b[0m\n\u001b[0;32m----> 2\u001b[0;31m \u001b[0ma\u001b[0m\u001b[0;34m.\u001b[0m\u001b[0mappend\u001b[0m\u001b[0;34m(\u001b[0m\u001b[0;36m2\u001b[0m\u001b[0;34m)\u001b[0m\u001b[0;34m\u001b[0m\u001b[0;34m\u001b[0m\u001b[0m\n\u001b[0m",
      "\u001b[0;31mAttributeError\u001b[0m: 'numpy.ndarray' object has no attribute 'append'"
     ]
    }
   ],
   "source": [
    "a = np.zeros(3)\n",
    "a.a"
   ]
  },
  {
   "cell_type": "code",
   "execution_count": 41,
   "metadata": {},
   "outputs": [
    {
     "data": {
      "text/plain": [
       "Text(0, 0.5, 'degree')"
      ]
     },
     "execution_count": 41,
     "metadata": {},
     "output_type": "execute_result"
    },
    {
     "data": {
      "image/png": "[encoded data removed]",
      "text/plain": [
       "<Figure size 432x288 with 1 Axes>"
      ]
     },
     "metadata": {
      "needs_background": "light"
     },
     "output_type": "display_data"
    }
   ],
   "source": [
    "plt.plot(list(risk2.values()),[BG.degree(key) for key in risk2.keys()],'.')\n",
    "plt.xlabel('risk')\n",
    "plt.ylabel('degree')"
   ]
  },
  {
   "cell_type": "code",
   "execution_count": 39,
   "metadata": {},
   "outputs": [
    {
     "name": "stdout",
     "output_type": "stream",
     "text": [
      "CPU times: user 8.51 s, sys: 60.5 ms, total: 8.57 s\n",
      "Wall time: 8.66 s\n"
     ]
    }
   ],
   "source": [
    "projected = nx.algorithms.bipartite.projected_graph(BG,range(N_a))\n",
    "%time a = nx.algorithms.percolation_centrality(projected,states=dict(risk2))"
   ]
  },
  {
   "cell_type": "code",
   "execution_count": 72,
   "metadata": {},
   "outputs": [],
   "source": [
    "b = nx.betweenness_centrality(BG.subgraph(nx.connected.node_connected_component(BG,0).intersection(set(range(N_a)))))"
   ]
  },
  {
   "cell_type": "code",
   "execution_count": 70,
   "metadata": {},
   "outputs": [
    {
     "ename": "KeyError",
     "evalue": "1000",
     "output_type": "error",
     "traceback": [
      "\u001b[0;31m---------------------------------------------------------------------------\u001b[0m",
      "\u001b[0;31mKeyError\u001b[0m                                  Traceback (most recent call last)",
      "\u001b[0;32m<ipython-input-70-c4aac67b4452>\u001b[0m in \u001b[0;36m<module>\u001b[0;34m()\u001b[0m\n\u001b[0;32m----> 1\u001b[0;31m \u001b[0mplt\u001b[0m\u001b[0;34m.\u001b[0m\u001b[0mplot\u001b[0m\u001b[0;34m(\u001b[0m\u001b[0;34m[\u001b[0m\u001b[0mdict\u001b[0m\u001b[0;34m(\u001b[0m\u001b[0mrisk2\u001b[0m\u001b[0;34m)\u001b[0m\u001b[0;34m[\u001b[0m\u001b[0mkey\u001b[0m\u001b[0;34m]\u001b[0m\u001b[0;32mfor\u001b[0m \u001b[0mkey\u001b[0m \u001b[0;32min\u001b[0m \u001b[0mb\u001b[0m\u001b[0;34m.\u001b[0m\u001b[0mkeys\u001b[0m\u001b[0;34m(\u001b[0m\u001b[0;34m)\u001b[0m\u001b[0;34m]\u001b[0m\u001b[0;34m,\u001b[0m\u001b[0;34m[\u001b[0m\u001b[0mb\u001b[0m\u001b[0;34m[\u001b[0m\u001b[0mkey\u001b[0m\u001b[0;34m]\u001b[0m \u001b[0;32mfor\u001b[0m \u001b[0mkey\u001b[0m \u001b[0;32min\u001b[0m \u001b[0mb\u001b[0m\u001b[0;34m.\u001b[0m\u001b[0mkeys\u001b[0m\u001b[0;34m(\u001b[0m\u001b[0;34m)\u001b[0m\u001b[0;34m]\u001b[0m\u001b[0;34m,\u001b[0m\u001b[0;34m'.'\u001b[0m\u001b[0;34m)\u001b[0m\u001b[0;34m\u001b[0m\u001b[0;34m\u001b[0m\u001b[0m\n\u001b[0m",
      "\u001b[0;32m<ipython-input-70-c4aac67b4452>\u001b[0m in \u001b[0;36m<listcomp>\u001b[0;34m(.0)\u001b[0m\n\u001b[0;32m----> 1\u001b[0;31m \u001b[0mplt\u001b[0m\u001b[0;34m.\u001b[0m\u001b[0mplot\u001b[0m\u001b[0;34m(\u001b[0m\u001b[0;34m[\u001b[0m\u001b[0mdict\u001b[0m\u001b[0;34m(\u001b[0m\u001b[0mrisk2\u001b[0m\u001b[0;34m)\u001b[0m\u001b[0;34m[\u001b[0m\u001b[0mkey\u001b[0m\u001b[0;34m]\u001b[0m\u001b[0;32mfor\u001b[0m \u001b[0mkey\u001b[0m \u001b[0;32min\u001b[0m \u001b[0mb\u001b[0m\u001b[0;34m.\u001b[0m\u001b[0mkeys\u001b[0m\u001b[0;34m(\u001b[0m\u001b[0;34m)\u001b[0m\u001b[0;34m]\u001b[0m\u001b[0;34m,\u001b[0m\u001b[0;34m[\u001b[0m\u001b[0mb\u001b[0m\u001b[0;34m[\u001b[0m\u001b[0mkey\u001b[0m\u001b[0;34m]\u001b[0m \u001b[0;32mfor\u001b[0m \u001b[0mkey\u001b[0m \u001b[0;32min\u001b[0m \u001b[0mb\u001b[0m\u001b[0;34m.\u001b[0m\u001b[0mkeys\u001b[0m\u001b[0;34m(\u001b[0m\u001b[0;34m)\u001b[0m\u001b[0;34m]\u001b[0m\u001b[0;34m,\u001b[0m\u001b[0;34m'.'\u001b[0m\u001b[0;34m)\u001b[0m\u001b[0;34m\u001b[0m\u001b[0;34m\u001b[0m\u001b[0m\n\u001b[0m",
      "\u001b[0;31mKeyError\u001b[0m: 1000"
     ]
    }
   ],
   "source": [
    "plt.plot([dict(risk2)[key]for key in b.keys()],[b[key] for key in b.keys()],'.')\n"
   ]
  },
  {
   "cell_type": "code",
   "execution_count": 58,
   "metadata": {},
   "outputs": [
    {
     "data": {
      "text/plain": [
       "<networkx.classes.graph.Graph at 0x7fe19402c810>"
      ]
     },
     "execution_count": 58,
     "metadata": {},
     "output_type": "execute_result"
    }
   ],
   "source": [
    "BG.subgraph(nx.connected.node_connected_component(BG,0))"
   ]
  },
  {
   "cell_type": "code",
   "execution_count": null,
   "metadata": {},
   "outputs": [],
   "source": []
  }
 ],
 "metadata": {
  "kernelspec": {
   "display_name": "Python 3",
   "language": "python",
   "name": "python3"
  },
  "language_info": {
   "codemirror_mode": {
    "name": "ipython",
    "version": 3
   },
   "file_extension": ".py",
   "mimetype": "text/x-python",
   "name": "python",
   "nbconvert_exporter": "python",
   "pygments_lexer": "ipython3",
   "version": "3.8.5"
  }
 },
 "nbformat": 4,
 "nbformat_minor": 2
}
