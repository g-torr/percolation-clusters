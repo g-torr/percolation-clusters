{
 "cells": [
  {
   "cell_type": "code",
   "execution_count": 5,
   "metadata": {},
   "outputs": [],
   "source": [
    "import numpy as np\n",
    "import matplotlib.pyplot as plt\n",
    "%matplotlib inline\n",
    "import networkx as nx\n",
    "import networkx.algorithms.bipartite as bipartite\n",
    "from multiprocessing import Pool\n",
    "import itertools\n",
    "from collections import Counter\n",
    "import sys\n",
    "sys.path.append('lib/')\n",
    "from degree_seq_bipartite import bipartite_degree_seq\n"
   ]
  },
  {
   "cell_type": "markdown",
   "metadata": {},
   "source": [
    "Micorscopic cavity dynamics:\n",
    "\\begin{eqnarray}\n",
    "v_i& \\equiv \\langle n_i\\rangle =  1-\\prod_{\\mu \\in\\partial _i}\\left(1-m_\\mu^{(i)}\\right)\\\\\n",
    "m_\\mu^{(i)}&\\equiv\\langle \\tau_\\mu^{(i)}\\rangle = 1-\\prod_{j\\in\\partial _\\mu\\setminus i}\\left(1-p_{j\\mu}v_j^{(\\mu)}\\right)\\\\\n",
    "v_j^{(\\mu)}& \\equiv\\langle n_j^{(\\mu)}\\rangle = 1-\\prod_{\\nu\\in\\partial _j\\setminus \\mu }\\left(1-m_\\nu^{(j)}\\right)\\\\\n",
    "\\end{eqnarray}\n",
    "In the following I label ``a`` the quantities that refers to individuals, ``b`` for the clusters"
   ]
  },
  {
   "cell_type": "code",
   "execution_count": 160,
   "metadata": {},
   "outputs": [
    {
     "name": "stdout",
     "output_type": "stream",
     "text": [
      "{'lam': 2}\n"
     ]
    },
    {
     "data": {
      "text/plain": [
       "(1, 1)"
      ]
     },
     "execution_count": 160,
     "metadata": {},
     "output_type": "execute_result"
    }
   ],
   "source": [
    "N_a = 10_000# n people\n",
    "N_b = 5_000 #n clusters\n",
    "a_mean = 2 #average degree of the distribution\n",
    "#b_mean = (a_mean )* N_a / N_b \n",
    "aseq,bseq = bipartite_degree_seq(N_a,N_b,'shifted_poisson','shifted_poisson',{'lam':a_mean},{'lam':N_a*a_mean/N_b})\n",
    "BG = bipartite.generators.configuration_model(aseq,bseq)\n",
    "BG = nx.Graph(BG)#convert multilinks to simple \n",
    "#G = nx.algorithms.bipartite.projection.projected_graph(BG,range(N_a,N_b))#projection on the cluster layer\n",
    "p = 0.6 #probability to have a link\n",
    "min(bseq),min(aseq)"
   ]
  },
  {
   "cell_type": "code",
   "execution_count": 174,
   "metadata": {},
   "outputs": [],
   "source": [
    "def Convert(tup, di={}):\n",
    "    ''' for undirected edges. I construct the neighbouring relationship.\n",
    "    Returns:\n",
    "        di: dictionary.\n",
    "    Notes:\n",
    "    For link (a,b)  it returns the di[a]+=[b], and di[b]+=[a]\n",
    "    '''\n",
    "    for a, b in tup: \n",
    "        di.setdefault(a, []).append(b)\n",
    "        di.setdefault(b, []).append(a)\n",
    "    di = {key:np.array(value) for key, value in di.items()}\n",
    "    return di \n",
    "neigh = Convert(BG.edges())\n",
    "states = {key:np.ones(len(value)) for key,value in neigh.items()}#states[x][y] indicates the state of node \"x cavity neigh[x][y]\"\""
   ]
  },
  {
   "cell_type": "markdown",
   "metadata": {},
   "source": [
    "Below the single instance cavity is computed"
   ]
  },
  {
   "cell_type": "code",
   "execution_count": 175,
   "metadata": {},
   "outputs": [],
   "source": [
    "N_iterations = 5\n",
    "for count in range(N_iterations):    #solving cavity equations through forward dynamics\n",
    "    for j in range(N_a):#solving 3rd equation\n",
    "            for idx,mu in enumerate(neigh[j]):\n",
    "                new=1\n",
    "                for nu in set(neigh[j])-{mu}:\n",
    "                    new*=(1-states[nu][neigh[nu]==j])\n",
    "                states[j][idx]= 1-new\n",
    "    for mu in range(N_a,N_a+N_b): #running 2nd equation\n",
    "            for idx,i in enumerate(neigh[mu]):\n",
    "                new=1\n",
    "                for j in set(neigh[mu])-{i}:\n",
    "                    new*=(1-p*states[j][neigh[j]==mu])\n",
    "                states[mu][idx]= 1-new\n",
    "risk ={}\n",
    "for i in range(N_a):#solving 3rd equation\n",
    "    new=1\n",
    "    for mu in set(neigh[i]):\n",
    "        new*=(1-states[mu][neigh[mu]==i])\n",
    "    risk[i]= 1-new\n"
   ]
  },
  {
   "cell_type": "code",
   "execution_count": 176,
   "metadata": {},
   "outputs": [
    {
     "data": {
      "text/plain": [
       "Text(0.5, 1.0, '10000 inh., 5000 clusters, <cluster size> = 4.0, p=0.6')"
      ]
     },
     "execution_count": 176,
     "metadata": {},
     "output_type": "execute_result"
    },
    {
     "data": {
      "image/png": "[encoded data removed]",
      "text/plain": [
       "<Figure size 432x288 with 1 Axes>"
      ]
     },
     "metadata": {
      "needs_background": "light"
     },
     "output_type": "display_data"
    }
   ],
   "source": [
    "#plt.hist([x for el in states.values() for x in el],bins = 50)\n",
    "plt.hist([x for el in risk.values() for x in el],bins = 50)\n",
    "plt.xlabel('prob of being infected')\n",
    "plt.ylabel('number of people')\n",
    "plt.title(str(N_a)+' inh., '+str(N_b)+' clusters, <cluster size> = '+str(N_a*a_mean/N_b)+', p=' + str(p))\n",
    "#plt.savefig('single_instance.pdf')"
   ]
  }
 ],
 "metadata": {
  "kernelspec": {
   "display_name": "Python 3",
   "language": "python",
   "name": "python3"
  },
  "language_info": {
   "codemirror_mode": {
    "name": "ipython",
    "version": 3
   },
   "file_extension": ".py",
   "mimetype": "text/x-python",
   "name": "python",
   "nbconvert_exporter": "python",
   "pygments_lexer": "ipython3",
   "version": "3.7.4"
  }
 },
 "nbformat": 4,
 "nbformat_minor": 2
}
