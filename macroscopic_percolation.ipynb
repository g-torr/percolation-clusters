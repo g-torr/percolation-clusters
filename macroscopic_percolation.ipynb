{
 "cells": [
  {
   "cell_type": "code",
   "execution_count": 68,
   "metadata": {},
   "outputs": [],
   "source": [
    "import numpy as np\n",
    "import matplotlib.pyplot as plt\n",
    "%matplotlib inline\n",
    "import networkx as nx\n",
    "import networkx.algorithms.bipartite as bipartite\n",
    "import random\n",
    "from scipy.optimize import root\n",
    "from collections import Counter"
   ]
  },
  {
   "cell_type": "code",
   "execution_count": 2,
   "metadata": {},
   "outputs": [],
   "source": [
    "def shifted_poisson(lam = 1,size = None):\n",
    "    '''\n",
    "    Draw samples from a 1+Poisson distribution.\n",
    "\n",
    "    The Poisson distribution is the limit of the binomial distribution\n",
    "    for large N.\n",
    "\n",
    "    Parameters\n",
    "    ----------\n",
    "    lam : float or array_like of floats\n",
    "        Expectation of interval, must be >= 1. A sequence of expectation\n",
    "        intervals must be broadcastable over the requested size.\n",
    "        Poisson distribution is extracted with average degree lam-1\n",
    "    size : int or tuple of ints, optional\n",
    "        Output shape.  If the given shape is, e.g., ``(m, n, k)``, then\n",
    "        ``m * n * k`` samples are drawn.  If size is ``None`` (default),\n",
    "        a single value is returned if ``lam`` is a scalar. Otherwise,\n",
    "        ``np.array(lam).size`` samples are drawn.\n",
    "\n",
    "    Returns\n",
    "    -------\n",
    "    out : ndarray or scalar\n",
    "        Drawn samples from the parameterized Poisson distribution.\n",
    "    '''\n",
    "\n",
    "    \n",
    "    return np.random.poisson(lam = lam-1,size = size)+1\n",
    "np.random.shifted_poisson = shifted_poisson"
   ]
  },
  {
   "cell_type": "markdown",
   "metadata": {},
   "source": [
    "- degree of individual : number of cluster a person belongs to \n",
    "- degree of cluster:  number of people in the cluster"
   ]
  },
  {
   "cell_type": "code",
   "execution_count": 51,
   "metadata": {},
   "outputs": [
    {
     "name": "stdout",
     "output_type": "stream",
     "text": [
      "{'lam': 5}\n"
     ]
    },
    {
     "data": {
      "text/plain": [
       "<matplotlib.legend.Legend at 0x1031961fd0>"
      ]
     },
     "execution_count": 51,
     "metadata": {},
     "output_type": "execute_result"
    },
    {
     "data": {
      "image/png": "[encoded data removed]",
      "text/plain": [
       "<Figure size 432x288 with 1 Axes>"
      ]
     },
     "metadata": {
      "needs_background": "light"
     },
     "output_type": "display_data"
    }
   ],
   "source": [
    "N_a = 100_000# n people\n",
    "N_b = 100_000 #n clusters\n",
    "a_mean = 5\n",
    "b_mean = (a_mean )* N_a / N_b \n",
    "aseq,bseq = bipartite_degree_seq(N_a,N_b,'shifted_poisson','poisson',{'lam':a_mean},{'lam':N_a*a_mean/N_b})\n",
    "\n",
    "plt.hist(aseq,bins = np.arange(min(aseq),max(aseq)+1),density=True,label = 'individual')\n",
    "plt.hist(bseq,bins = np.arange(min(bseq),max(bseq)+1),density=True,label = 'cluster')\n",
    "plt.title('degree distribution')\n",
    "plt.legend()"
   ]
  },
  {
   "cell_type": "code",
   "execution_count": 52,
   "metadata": {},
   "outputs": [
    {
     "data": {
      "text/plain": [
       "1.0"
      ]
     },
     "execution_count": 52,
     "metadata": {},
     "output_type": "execute_result"
    }
   ],
   "source": [
    "sum(aseq)/sum(bseq)"
   ]
  },
  {
   "cell_type": "code",
   "execution_count": 53,
   "metadata": {},
   "outputs": [],
   "source": [
    "def bipartite_degree_seq(N_a,N_b,pmf_a,pmf_b,a_params,b_params):\n",
    "    '''\n",
    "    generate the degree sequences according to the degree distribution specified.\n",
    "    Accepted degree distributions are list at np.random.__all__\n",
    "    Parameters:\n",
    "    N_a: int\n",
    "        number of nodes in layer a\n",
    "    N_b: int\n",
    "        number of nodes in layer b        \n",
    "    pmf_a: string\n",
    "        name of the distribution from which degree sequence is sampled, for nodes a\n",
    "    pmf_b: string\n",
    "        name of the distribution from which degree sequence is sampled, for nodes b\n",
    "    a_params: dict\n",
    "        parameters of the distribution pmf_a\n",
    "    b_params: dict\n",
    "        parameters of the distribution pmf_b\n",
    "    Returns:\n",
    "    aseq: np.array\n",
    "        degree sequence layer a\n",
    "    bseq: np.array\n",
    "        degree sequence layer b\n",
    "    Usage:\n",
    "    N_a = 10000\n",
    "    N_b = 1000\n",
    "    a_mean = 1\n",
    "    a,b = bipartite_degree_seq(N_a,N_b,'poisson','poisson',{'lam':a_mean},{'lam':N_a*a_mean/N_b})\n",
    "\n",
    "    '''\n",
    "    print(a_params)\n",
    "    afunc = getattr(np.random,pmf_a)\n",
    "    aseq =afunc(**a_params,size = N_a) \n",
    "    bseq =afunc(**b_params,size = N_b) \n",
    "    diff =np.sum(aseq)- np.sum(bseq) \n",
    "    if abs(diff/np.sum(aseq))>0.01:\n",
    "        raise ValueError('It is likely that statistically the sum of the two degree sequence differs')\n",
    "    while diff != 0:\n",
    "        n_new_samples = len(aseq) #int(abs(diff) /a_mean)\n",
    "        new_samples = np.random.poisson(a_mean -1, n_new_samples)+1\n",
    "        for proposed in new_samples:\n",
    "            i = np.random.choice(len(aseq))\n",
    "            k = aseq[i]\n",
    "            if abs(diff -k+ proposed )<abs(diff):\n",
    "                aseq[i] = proposed\n",
    "                diff = diff -k+ proposed\n",
    "    return aseq,bseq\n"
   ]
  },
  {
   "cell_type": "code",
   "execution_count": 54,
   "metadata": {},
   "outputs": [
    {
     "name": "stdout",
     "output_type": "stream",
     "text": [
      "{'lam': 5}\n"
     ]
    },
    {
     "data": {
      "text/plain": [
       "(5.00132, 5.00132)"
      ]
     },
     "execution_count": 54,
     "metadata": {},
     "output_type": "execute_result"
    }
   ],
   "source": [
    "aseq,bseq = bipartite_degree_seq(N_a,N_b,'shifted_poisson','shifted_poisson',{'lam':a_mean},{'lam':N_a*a_mean/N_b})\n",
    "\n",
    "np.mean(aseq),np.mean(bseq)"
   ]
  },
  {
   "cell_type": "code",
   "execution_count": 85,
   "metadata": {},
   "outputs": [],
   "source": [
    "BG = bipartite.generators.configuration_model(aseq,bseq)\n",
    "p = 0.7# prob to remove a link, i.e not to trasmit disease\n",
    "edgs_list = list(BG.edges())\n",
    "edgs_to_rm = random.sample(edgs_list,k = int(len(edgs_list)*p))\n",
    "BG.remove_edges_from(edgs_to_rm)\n",
    "CC= max(nx.algorithms.connected_components(BG),key = len)\n"
   ]
  },
  {
   "cell_type": "code",
   "execution_count": 86,
   "metadata": {},
   "outputs": [
    {
     "name": "stdout",
     "output_type": "stream",
     "text": [
      "fraction of individuals infected 0.99998 \n",
      "fraction of clusters infected 0.99998\n"
     ]
    }
   ],
   "source": [
    "CC = np.array(list(CC))\n",
    "print('fraction of individuals infected',np.count_nonzero(CC<N_a)/N_a,'\\nfraction of clusters infected',np.count_nonzero(CC>=N_a)/N_b)\n",
    "\n"
   ]
  },
  {
   "cell_type": "code",
   "execution_count": 497,
   "metadata": {},
   "outputs": [],
   "source": [
    "np.random.poisson?"
   ]
  },
  {
   "cell_type": "code",
   "execution_count": 108,
   "metadata": {},
   "outputs": [],
   "source": [
    "def f(x,c,d,T):\n",
    "    return    -x + (np.exp(-((d*p*np.exp(-(c*x))*(-1 - c + c*x + np.exp(c*x) + c*np.exp(c*x)))/(1 + c)))*\n",
    "          (-1 - d + (d*p*np.exp(-(c*x))*(-1 - c + c*x + np.exp(c*x) + c*np.exp(c*x)))/(1 + c) + np.exp((d*p*np.exp(-(c*x))*(-1 - c + c*x + np.exp(c*x) + c*np.exp(c*x)))/(1 + c)) + \n",
    "            d*np.exp((d*p*np.exp(-(c*x))*(-1 - c + c*x + np.exp(c*x) + c*np.exp(c*x)))/(1 + c))))/(1 + d)"
   ]
  },
  {
   "cell_type": "code",
   "execution_count": 64,
   "metadata": {},
   "outputs": [
    {
     "data": {
      "text/plain": [
       "<matplotlib.lines.Line2D at 0x10407489d0>"
      ]
     },
     "execution_count": 64,
     "metadata": {},
     "output_type": "execute_result"
    },
    {
     "data": {
      "image/png": "[encoded data removed]",
      "text/plain": [
       "<Figure size 432x288 with 1 Axes>"
      ]
     },
     "metadata": {
      "needs_background": "light"
     },
     "output_type": "display_data"
    }
   ],
   "source": [
    "xs = np.linspace(0,1,100)\n",
    "plt.plot(xs,[f(x,a_mean-1,b_mean-1,1-p) for x in xs])\n",
    "plt.plot(xs,[f(x,a_mean-1,b_mean-1,p) for x in xs])\n",
    "plt.axhline(0,ls = '--')"
   ]
  },
  {
   "cell_type": "code",
   "execution_count": 114,
   "metadata": {},
   "outputs": [
    {
     "name": "stdout",
     "output_type": "stream",
     "text": [
      "    fjac: array([[-1.]])\n",
      "     fun: array([-2.22044605e-16])\n",
      " message: 'The solution converged.'\n",
      "    nfev: 5\n",
      "     qtf: array([2.31088115e-09])\n",
      "       r: array([0.99618172])\n",
      "  status: 1\n",
      " success: True\n",
      "       x: array([0.97274576])\n"
     ]
    },
    {
     "data": {
      "text/plain": [
       "array([0.99944333])"
      ]
     },
     "execution_count": 114,
     "metadata": {},
     "output_type": "execute_result"
    }
   ],
   "source": [
    "solution = root(f,1,args=(a_mean-1,b_mean-1,1-p))\n",
    "print(solution)\n",
    "np.exp(-(a_mean-1)*solution.x)*(-1+np.exp((a_mean-1)*solution.x)+solution.x)"
   ]
  },
  {
   "cell_type": "code",
   "execution_count": null,
   "metadata": {},
   "outputs": [],
   "source": [
    "solution.x"
   ]
  },
  {
   "cell_type": "code",
   "execution_count": 83,
   "metadata": {},
   "outputs": [
    {
     "data": {
      "text/plain": [
       "<BarContainer object of 17 artists>"
      ]
     },
     "execution_count": 83,
     "metadata": {},
     "output_type": "execute_result"
    },
    {
     "data": {
      "image/png": "[encoded data removed]",
      "text/plain": [
       "<Figure size 432x288 with 1 Axes>"
      ]
     },
     "metadata": {
      "needs_background": "light"
     },
     "output_type": "display_data"
    }
   ],
   "source": [
    "count = Counter(aseq)\n",
    "plt.bar(count.keys(),count.values(),1)"
   ]
  },
  {
   "cell_type": "code",
   "execution_count": 74,
   "metadata": {},
   "outputs": [
    {
     "data": {
      "text/plain": [
       "dict_values([19440, 19428, 7510, 1796, 15831, 2897, 10514, 567, 14479, 188, 5993, 1269, 58, 24, 4, 1, 1])"
      ]
     },
     "execution_count": 74,
     "metadata": {},
     "output_type": "execute_result"
    }
   ],
   "source": [
    "Counter(aseq).values()"
   ]
  },
  {
   "cell_type": "code",
   "execution_count": 89,
   "metadata": {},
   "outputs": [],
   "source": [
    "BG_1 = nx.Graph(BG)"
   ]
  },
  {
   "cell_type": "code",
   "execution_count": 107,
   "metadata": {},
   "outputs": [
    {
     "data": {
      "text/plain": [
       "<BarContainer object of 17 artists>"
      ]
     },
     "execution_count": 107,
     "metadata": {},
     "output_type": "execute_result"
    },
    {
     "data": {
      "image/png": "[encoded data removed]",
      "text/plain": [
       "<Figure size 432x288 with 1 Axes>"
      ]
     },
     "metadata": {
      "needs_background": "light"
     },
     "output_type": "display_data"
    }
   ],
   "source": [
    "plt.bar(*zip(*Counter(dict(BG_1.degree(range(N_a))).values()).items()),1)\n",
    "plt.bar(*zip(*Counter(aseq).items()),1,alpha = 0.3)"
   ]
  },
  {
   "cell_type": "code",
   "execution_count": 102,
   "metadata": {},
   "outputs": [],
   "source": [
    "BG.degree?"
   ]
  },
  {
   "cell_type": "code",
   "execution_count": null,
   "metadata": {},
   "outputs": [],
   "source": []
  }
 ],
 "metadata": {
  "kernelspec": {
   "display_name": "Python 3",
   "language": "python",
   "name": "python3"
  }
 },
 "nbformat": 4,
 "nbformat_minor": 2
}
