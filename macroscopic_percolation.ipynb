{
 "cells": [
  {
   "cell_type": "code",
   "execution_count": 2,
   "metadata": {},
   "outputs": [
    {
     "name": "stdout",
     "output_type": "stream",
     "text": [
      "module loaded at  2020-05-15 14:48:58.377307\n"
     ]
    }
   ],
   "source": [
    "import numpy as np\n",
    "import matplotlib.pyplot as plt\n",
    "%matplotlib inline\n",
    "import networkx as nx\n",
    "import networkx.algorithms.bipartite as bipartite\n",
    "import random\n",
    "from scipy.optimize import root\n",
    "from collections import Counter\n",
    "import sys\n",
    "sys.path.append('lib/')\n",
    "from degree_seq_bipartite import bipartite_degree_seq\n",
    "from multiprocessing import Pool\n",
    "import itertools"
   ]
  },
  {
   "cell_type": "code",
   "execution_count": 5,
   "metadata": {},
   "outputs": [],
   "source": []
  },
  {
   "cell_type": "markdown",
   "metadata": {},
   "source": [
    "- degree of individual : number of cluster a person belongs to \n",
    "- degree of cluster:  number of people in the cluster"
   ]
  },
  {
   "cell_type": "code",
   "execution_count": 3,
   "metadata": {},
   "outputs": [
    {
     "name": "stdout",
     "output_type": "stream",
     "text": [
      "{'lam': 2}\n"
     ]
    },
    {
     "data": {
      "text/plain": [
       "<matplotlib.legend.Legend at 0x1021328f50>"
      ]
     },
     "execution_count": 3,
     "metadata": {},
     "output_type": "execute_result"
    },
    {
     "data": {
      "image/png": "[encoded data removed]",
      "text/plain": [
       "<Figure size 432x288 with 1 Axes>"
      ]
     },
     "metadata": {
      "needs_background": "light"
     },
     "output_type": "display_data"
    }
   ],
   "source": [
    "N_a = 100_000# n people\n",
    "N_b = 50_000 #n clusters\n",
    "a_mean = 2\n",
    "b_mean = (a_mean )* N_a / N_b \n",
    "aseq,bseq = bipartite_degree_seq(N_a,N_b,'shifted_poisson','poisson',{'lam':a_mean},{'lam':N_a*a_mean/N_b})\n",
    "\n",
    "plt.hist(aseq,bins = np.arange(min(aseq),max(aseq)+1),density=True,label = 'individual')\n",
    "plt.hist(bseq,bins = np.arange(min(bseq),max(bseq)+1),density=True,label = 'cluster')\n",
    "plt.title('degree distribution')\n",
    "plt.legend()"
   ]
  },
  {
   "cell_type": "code",
   "execution_count": 52,
   "metadata": {},
   "outputs": [
    {
     "data": {
      "text/plain": [
       "1.0"
      ]
     },
     "execution_count": 52,
     "metadata": {},
     "output_type": "execute_result"
    }
   ],
   "source": [
    "sum(aseq)/sum(bseq)"
   ]
  },
  {
   "cell_type": "code",
   "execution_count": 4,
   "metadata": {},
   "outputs": [],
   "source": [
    "def simulate_percolation(N_a,N_b,a_mean,p):\n",
    "    '''Parameters:\n",
    "    p: float\n",
    "         prob to remove a link, i.e not to trasmit disease\n",
    "    '''\n",
    "    aseq,bseq = bipartite_degree_seq(N_a,N_b,'shifted_poisson','shifted_poisson',{'lam':a_mean},{'lam':N_a*a_mean/N_b})\n",
    "    BG = bipartite.generators.configuration_model(aseq,bseq)\n",
    "    #print(np.mean(aseq),np.mean(bseq))\n",
    "    edgs_list = list(BG.edges())\n",
    "    edgs_to_rm = random.sample(edgs_list,k = int(len(edgs_list)*p))\n",
    "    BG.remove_edges_from(edgs_to_rm)\n",
    "    CC= max(nx.algorithms.connected_components(BG),key = len)\n",
    "    CC = np.array(list(CC))\n",
    "    return np.count_nonzero(CC<N_a)/N_a\n",
    "def simulate_percolation_projected(N_a,N_b,a_mean,p):\n",
    "    '''Parameters:\n",
    "    p: float\n",
    "         prob to remove a link, i.e not to trasmit disease\n",
    "    '''\n",
    "    aseq,bseq = bipartite_degree_seq(N_a,N_b,'shifted_poisson','shifted_poisson',{'lam':a_mean},{'lam':N_a*a_mean/N_b})\n",
    "    BG = bipartite.generators.configuration_model(aseq,bseq)\n",
    "    BG_1 = nx.Graph(BG)\n",
    "    G = nx.algorithms.bipartite.projection.projected_graph(BG_1,range(N_a))\n",
    "    #print(np.mean(aseq),np.mean(bseq))\n",
    "    edgs_list = list(G.edges())\n",
    "    edgs_to_rm = random.sample(edgs_list,k = int(len(edgs_list)*p))\n",
    "    G.remove_edges_from(edgs_to_rm)\n",
    "    CC= max(nx.algorithms.connected_components(G),key = len)\n",
    "    CC = np.array(list(CC))\n",
    "    return len(CC)/N_a"
   ]
  },
  {
   "cell_type": "code",
   "execution_count": 20,
   "metadata": {},
   "outputs": [
    {
     "name": "stdout",
     "output_type": "stream",
     "text": [
      "{'lam': 1}\n"
     ]
    },
    {
     "data": {
      "text/plain": [
       "(1.0, 1.0)"
      ]
     },
     "execution_count": 20,
     "metadata": {},
     "output_type": "execute_result"
    }
   ],
   "source": [
    "aseq,bseq = bipartite_degree_seq(N_a,N_b,'shifted_poisson','shifted_poisson',{'lam':a_mean},{'lam':N_a*a_mean/N_b})\n",
    "\n",
    "np.mean(aseq),np.mean(bseq)"
   ]
  },
  {
   "cell_type": "code",
   "execution_count": 140,
   "metadata": {},
   "outputs": [],
   "source": [
    "BG = bipartite.generators.configuration_model(aseq,bseq)\n",
    "p = 0.2# prob to remove a link, i.e not to trasmit disease\n",
    "edgs_list = list(BG.edges())\n",
    "edgs_to_rm = random.sample(edgs_list,k = int(len(edgs_list)*p))\n",
    "BG.remove_edges_from(edgs_to_rm)\n",
    "CC= max(nx.algorithms.connected_components(BG),key = len)\n"
   ]
  },
  {
   "cell_type": "code",
   "execution_count": 126,
   "metadata": {},
   "outputs": [
    {
     "name": "stdout",
     "output_type": "stream",
     "text": [
      "fraction of individuals infected 0.92267 \n",
      "fraction of clusters infected 0.92363\n"
     ]
    }
   ],
   "source": [
    "CC = np.array(list(CC))\n",
    "print('fraction of individuals infected',np.count_nonzero(CC<N_a)/N_a,'\\nfraction of clusters infected',np.count_nonzero(CC>=N_a)/N_b)\n",
    "\n"
   ]
  },
  {
   "cell_type": "code",
   "execution_count": 19,
   "metadata": {},
   "outputs": [
    {
     "name": "stdout",
     "output_type": "stream",
     "text": [
      "{'lam': 1}\n",
      "2\n"
     ]
    },
    {
     "data": {
      "text/plain": [
       "1e-05"
      ]
     },
     "execution_count": 19,
     "metadata": {},
     "output_type": "execute_result"
    }
   ],
   "source": [
    "simulate_percolation(N_a,N_b,a_mean,b_mean,p)"
   ]
  },
  {
   "cell_type": "code",
   "execution_count": null,
   "metadata": {},
   "outputs": [
    {
     "name": "stdout",
     "output_type": "stream",
     "text": [
      "{'lam': 1.0}\n",
      "{'lam': 1.8571428571428572}\n",
      "{'lam': 1.4285714285714286}\n",
      "{'lam': 2.2857142857142856}\n",
      "{'lam': 2.7142857142857144}\n",
      "{'lam': 3.142857142857143}\n",
      "{'lam': 3.571428571428571}\n",
      "{'lam': 4.0}\n"
     ]
    }
   ],
   "source": [
    "a_means = np.linspace(1, 4,8)\n",
    "p = 0.6\n",
    "pool = Pool()\n",
    "data = np.array(pool.starmap(simulate_percolation,itertools.product([N_a],[N_b],a_means,[p])))\n",
    "pool.close()\n",
    "pool = Pool()\n",
    "\n",
    "data_proj =np.array(pool.starmap(simulate_percolation_projected,itertools.product([N_a],[N_b],a_means,[p])))\n",
    "pool.close()"
   ]
  },
  {
   "cell_type": "code",
   "execution_count": 156,
   "metadata": {},
   "outputs": [
    {
     "data": {
      "image/png": "[encoded data removed]",
      "text/plain": [
       "<Figure size 432x288 with 1 Axes>"
      ]
     },
     "metadata": {
      "needs_background": "light"
     },
     "output_type": "display_data"
    }
   ],
   "source": [
    "plt.plot(a_means,data,'o',mfc = 'w',mew = 2,ms = 10,label = 'bipartite')\n",
    "plt.plot(a_means,data_proj,'s',label = 'proj',mfc = 'w',ms=10,mew = 2,alpha = 0.6)\n",
    "a_means_thr = np.linspace(a_means.min(),a_means.max(),100)\n",
    "plt.plot(a_means_thr,[model1(a_mean,a_mean*N_a/N_b,1-p).estimate() for a_mean in a_means_thr],label = 'cavity 1')\n",
    "plt.plot(a_means_thr,[model2(a_mean,a_mean*N_a/N_b,1-p).estimate() for a_mean in a_means_thr],label = 'cavity 2')\n",
    "plt.legend()\n",
    "plt.xlabel('mean degree')\n",
    "plt.ylabel('fraction of individuals in GC')\n",
    "plt.savefig('percolation.pdf')"
   ]
  },
  {
   "cell_type": "code",
   "execution_count": 59,
   "metadata": {},
   "outputs": [],
   "source": [
    "class theory_undirected:\n",
    "    def __init__(self,a_mean,b_mean,T):\n",
    "        self.a_mean = a_mean\n",
    "        self.b_mean = b_mean\n",
    "        self.T = T\n",
    "        self.m\n",
    "class model1:\n",
    "    def __init__(self,a_mean,b_mean,T):\n",
    "        self.a_mean = a_mean\n",
    "        self.b_mean = b_mean\n",
    "        self.T = T\n",
    "        \n",
    "    def cavity(self,x):\n",
    "        c = self.a_mean-1\n",
    "        d = self.b_mean-1\n",
    "        T = self.T\n",
    "        return    -x + (np.exp(-((d*T*np.exp(-(c*x))*(-1 - c + c*x + np.exp(c*x) + c*np.exp(c*x)))/(1 + c)))*\n",
    "          (-1 - d + (d*T*np.exp(-(c*x))*(-1 - c + c*x + np.exp(c*x) + c*np.exp(c*x)))/(1 + c) + np.exp((d*T*np.exp(-(c*x))*(-1 - c + c*x + np.exp(c*x) + c*np.exp(c*x)))/(1 + c)) + \n",
    "            d*np.exp((d*T*np.exp(-(c*x))*(-1 - c + c*x + np.exp(c*x) + c*np.exp(c*x)))/(1 + c))))/(1 + d)\n",
    "    def estimate(self):\n",
    "        f = self.cavity\n",
    "        solution = root(f,1)\n",
    "        return np.exp(-(self.a_mean-1)*solution.x)*(-1+np.exp((self.a_mean-1)*solution.x)+solution.x)\n",
    "class model2:\n",
    "    def __init__(self,a_mean,b_mean,T):\n",
    "        self.a_mean = a_mean\n",
    "        self.b_mean = b_mean\n",
    "        self.T = T\n",
    "        \n",
    "    def cavity(self,x):\n",
    "        c = self.a_mean-1\n",
    "        d = self.b_mean-1\n",
    "        T = self.T\n",
    "        return           -x + (np.exp(-((d*T*np.exp(-(c*T*x))*(-1 - c + c*T*x + np.exp(c*T*x) + c*np.exp(c*T*x)))/(1 + c)))*\n",
    "          (-1 - d + (d*T*np.exp(-(c*T*x))*(-1 - c + c*T*x + np.exp(c*T*x) + c*np.exp(c*T*x)))/(1 + c) + \n",
    "            np.exp((d*T*np.exp(-(c*T*x))*(-1 - c + c*T*x + np.exp(c*T*x) + c*np.exp(c*T*x)))/(1 + c)) + \n",
    "            d*np.exp((d*T*np.exp(-(c*T*x))*(-1 - c + c*T*x + np.exp(c*T*x) + c*np.exp(c*T*x)))/(1 + c))))/(1 + d)\n",
    "    def estimate(self):\n",
    "        f = self.cavity\n",
    "        solution = root(f,1)\n",
    "        return np.exp(-(self.a_mean-1)*solution.x*self.T)*(-1+np.exp((self.a_mean-1)*solution.x*self.T)+solution.x*self.T)\n"
   ]
  },
  {
   "cell_type": "code",
   "execution_count": 91,
   "metadata": {},
   "outputs": [
    {
     "data": {
      "text/plain": [
       "(-0.05, 0.049365840153954094)"
      ]
     },
     "execution_count": 91,
     "metadata": {},
     "output_type": "execute_result"
    },
    {
     "data": {
      "image/png": "[encoded data removed]",
      "text/plain": [
       "<Figure size 432x288 with 1 Axes>"
      ]
     },
     "metadata": {
      "needs_background": "light"
     },
     "output_type": "display_data"
    }
   ],
   "source": [
    "xs = np.linspace(0,1,100)\n",
    "plt.plot(xs,[f(x,a_mean-1,b_mean-1,1-p) for x in xs])\n",
    "plt.axhline(0,ls = '--')\n",
    "plt.ylim(-0.05,)"
   ]
  },
  {
   "cell_type": "code",
   "execution_count": 97,
   "metadata": {},
   "outputs": [
    {
     "name": "stdout",
     "output_type": "stream",
     "text": [
      "    fjac: array([[-1.]])\n",
      "     fun: array([0.])\n",
      " message: 'The solution converged.'\n",
      "    nfev: 8\n",
      "     qtf: array([8.13182854e-12])\n",
      "       r: array([0.73279659])\n",
      "  status: 1\n",
      " success: True\n",
      "       x: array([0.59214458])\n"
     ]
    },
    {
     "data": {
      "text/plain": [
       "array([0.87521109])"
      ]
     },
     "execution_count": 97,
     "metadata": {},
     "output_type": "execute_result"
    }
   ],
   "source": [
    "solution = root(f,1,args=(a_mean-1,b_mean-1,1-p))\n",
    "print(solution)\n",
    "np.exp(-(a_mean-1)*solution.x)*(-1+np.exp((a_mean-1)*solution.x)+solution.x)"
   ]
  },
  {
   "cell_type": "code",
   "execution_count": null,
   "metadata": {},
   "outputs": [],
   "source": [
    "solution.x"
   ]
  },
  {
   "cell_type": "code",
   "execution_count": 83,
   "metadata": {},
   "outputs": [
    {
     "data": {
      "text/plain": [
       "<BarContainer object of 17 artists>"
      ]
     },
     "execution_count": 83,
     "metadata": {},
     "output_type": "execute_result"
    },
    {
     "data": {
      "image/png": "[encoded data removed]",
      "text/plain": [
       "<Figure size 432x288 with 1 Axes>"
      ]
     },
     "metadata": {
      "needs_background": "light"
     },
     "output_type": "display_data"
    }
   ],
   "source": [
    "count = Counter(aseq)\n",
    "plt.bar(count.keys(),count.values(),1)"
   ]
  },
  {
   "cell_type": "code",
   "execution_count": 74,
   "metadata": {},
   "outputs": [
    {
     "data": {
      "text/plain": [
       "dict_values([19440, 19428, 7510, 1796, 15831, 2897, 10514, 567, 14479, 188, 5993, 1269, 58, 24, 4, 1, 1])"
      ]
     },
     "execution_count": 74,
     "metadata": {},
     "output_type": "execute_result"
    }
   ],
   "source": [
    "Counter(aseq).values()"
   ]
  },
  {
   "cell_type": "code",
   "execution_count": 37,
   "metadata": {},
   "outputs": [],
   "source": [
    "BG_1 = nx.Graph(BG)"
   ]
  },
  {
   "cell_type": "code",
   "execution_count": 107,
   "metadata": {},
   "outputs": [
    {
     "data": {
      "text/plain": [
       "<BarContainer object of 17 artists>"
      ]
     },
     "execution_count": 107,
     "metadata": {},
     "output_type": "execute_result"
    },
    {
     "data": {
      "image/png": "[encoded data removed]",
      "text/plain": [
       "<Figure size 432x288 with 1 Axes>"
      ]
     },
     "metadata": {
      "needs_background": "light"
     },
     "output_type": "display_data"
    }
   ],
   "source": [
    "plt.bar(*zip(*Counter(dict(BG_1.degree(range(N_a))).values()).items()),1)\n",
    "plt.bar(*zip(*Counter(aseq).items()),1,alpha = 0.3)"
   ]
  },
  {
   "cell_type": "code",
   "execution_count": 122,
   "metadata": {},
   "outputs": [],
   "source": [
    "BG_1 = nx.Graph(BG)\n",
    "G = nx.algorithms.bipartite.projection.projected_graph(BG_1,range(N_a))"
   ]
  },
  {
   "cell_type": "code",
   "execution_count": 124,
   "metadata": {},
   "outputs": [
    {
     "name": "stdout",
     "output_type": "stream",
     "text": [
      "fraction of individuals infected 0.90029 \n",
      "fraction of clusters infected 0.0\n"
     ]
    }
   ],
   "source": [
    "edgs_list = list(G.edges())\n",
    "edgs_to_rm = random.sample(edgs_list,k = int(len(edgs_list)*p))\n",
    "G.remove_edges_from(edgs_to_rm)\n",
    "CC= max(nx.algorithms.connected_components(G),key = len)\n",
    "CC = np.array(list(CC))\n",
    "print('fraction of individuals infected',np.count_nonzero(CC<N_a)/N_a,'\\nfraction of clusters infected',np.count_nonzero(CC>=N_a)/N_b)\n"
   ]
  },
  {
   "cell_type": "code",
   "execution_count": 142,
   "metadata": {},
   "outputs": [
    {
     "name": "stdout",
     "output_type": "stream",
     "text": [
      "{'lam': 3}\n",
      "{'lam': 3}\n",
      "0.92158 0.98219\n"
     ]
    }
   ],
   "source": [
    "print(simulate_percolation(N_a,N_b,a_mean,p),simulate_percolation_projected(N_a,N_b,a_mean,p))"
   ]
  },
  {
   "cell_type": "code",
   "execution_count": 123,
   "metadata": {},
   "outputs": [
    {
     "data": {
      "text/plain": [
       "(256272, 239928)"
      ]
     },
     "execution_count": 123,
     "metadata": {},
     "output_type": "execute_result"
    }
   ],
   "source": [
    "len(G.edges()) ,len(BG_1.edges())"
   ]
  },
  {
   "cell_type": "code",
   "execution_count": 114,
   "metadata": {},
   "outputs": [],
   "source": [
    "nx.algorithms.bipartite.projection.projected_graph?"
   ]
  },
  {
   "cell_type": "code",
   "execution_count": 145,
   "metadata": {},
   "outputs": [
    {
     "data": {
      "text/plain": [
       "<matplotlib.lines.Line2D at 0x102e62b4d0>"
      ]
     },
     "execution_count": 145,
     "metadata": {},
     "output_type": "execute_result"
    },
    {
     "data": {
      "image/png": "[encoded data removed]",
      "text/plain": [
       "<Figure size 432x288 with 1 Axes>"
      ]
     },
     "metadata": {
      "needs_background": "light"
     },
     "output_type": "display_data"
    }
   ],
   "source": [
    "plt.plot(0.92,'o')\n",
    "plt.plot(0.98,'o')\n",
    "plt.axhline(0)"
   ]
  },
  {
   "cell_type": "code",
   "execution_count": null,
   "metadata": {},
   "outputs": [],
   "source": []
  }
 ],
 "metadata": {
  "kernelspec": {
   "display_name": "Python 3",
   "language": "python",
   "name": "python3"
  },
  "language_info": {
   "codemirror_mode": {
    "name": "ipython",
    "version": 3
   },
   "file_extension": ".py",
   "mimetype": "text/x-python",
   "name": "python",
   "nbconvert_exporter": "python",
   "pygments_lexer": "ipython3",
   "version": "3.7.4"
  }
 },
 "nbformat": 4,
 "nbformat_minor": 2
}
